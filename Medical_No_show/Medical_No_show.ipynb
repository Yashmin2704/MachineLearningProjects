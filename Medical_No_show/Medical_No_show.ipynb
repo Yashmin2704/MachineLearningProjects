{
 "cells": [
  {
   "cell_type": "code",
   "execution_count": 1,
   "id": "29a6f2e0",
   "metadata": {},
   "outputs": [],
   "source": [
    "import warnings\n",
    "warnings.filterwarnings('ignore')\n",
    "import pandas as pd\n",
    "import numpy as np"
   ]
  },
  {
   "cell_type": "code",
   "execution_count": 2,
   "id": "26eaf748",
   "metadata": {},
   "outputs": [],
   "source": [
    "from sklearn.pipeline import Pipeline,FeatureUnion\n",
    "from sklearn.base import BaseEstimator, TransformerMixin\n",
    "from sklearn.metrics import mean_squared_error\n",
    "from sklearn.model_selection import train_test_split\n",
    "from mypipes import *\n",
    "from sklearn.model_selection import cross_val_score\n",
    "import matplotlib.pylab as plt "
   ]
  },
  {
   "cell_type": "code",
   "execution_count": 3,
   "id": "b53a698a",
   "metadata": {},
   "outputs": [],
   "source": [
    "from sklearn.model_selection import cross_val_score\n",
    "from sklearn.metrics import mean_squared_error\n",
    "\n",
    "from sklearn.linear_model import Ridge,Lasso\n",
    "from sklearn.model_selection import GridSearchCV\n",
    "from sklearn.model_selection import RandomizedSearchCV\n",
    "from sklearn.tree import DecisionTreeClassifier\n",
    "from sklearn.tree import DecisionTreeRegressor\n",
    "from sklearn.ensemble import RandomForestRegressor\n",
    "from sklearn.metrics import classification_report\n",
    "\n",
    "from ModelClassification import *"
   ]
  },
  {
   "cell_type": "code",
   "execution_count": 4,
   "id": "31031daa",
   "metadata": {},
   "outputs": [],
   "source": [
    "Medicine_train=pd.read_csv(r\"G:\\Python_new\\Project6\\train.csv\")\n",
    "Medicine_test=pd.read_csv(r\"G:\\Python_new\\Project6\\test_share.csv\")"
   ]
  },
  {
   "cell_type": "code",
   "execution_count": 52,
   "id": "3efa26f5",
   "metadata": {},
   "outputs": [
    {
     "data": {
      "text/plain": [
       "(10854, 5)"
      ]
     },
     "execution_count": 52,
     "metadata": {},
     "output_type": "execute_result"
    }
   ],
   "source": [
    "Medicine_test.shape"
   ]
  },
  {
   "cell_type": "code",
   "execution_count": 77,
   "id": "c6495a00",
   "metadata": {},
   "outputs": [
    {
     "data": {
      "text/plain": [
       "<bound method DataFrame.info of           PatientId  AppointmentID          ScheduledDay  \\\n",
       "0      2.987250e+13        5642903  2016-04-29T18:38:08Z   \n",
       "1      5.589978e+14        5642503  2016-04-29T16:08:27Z   \n",
       "2      8.679512e+11        5642828  2016-04-29T17:29:31Z   \n",
       "3      8.841186e+12        5642494  2016-04-29T16:07:23Z   \n",
       "4      9.598513e+13        5626772  2016-04-27T08:36:51Z   \n",
       "...             ...            ...                   ...   \n",
       "99485  9.969977e+14        5650534  2016-05-03T07:51:47Z   \n",
       "99486  3.635534e+13        5651072  2016-05-03T08:23:40Z   \n",
       "99487  3.596266e+12        5650093  2016-05-03T07:27:33Z   \n",
       "99488  1.557663e+13        5630692  2016-04-27T16:03:52Z   \n",
       "99489  3.775115e+14        5629448  2016-04-27T13:30:56Z   \n",
       "\n",
       "             AppointmentDay  SMS_received No-show  \n",
       "0      2016-04-29T00:00:00Z             0      No  \n",
       "1      2016-04-29T00:00:00Z             0      No  \n",
       "2      2016-04-29T00:00:00Z             0      No  \n",
       "3      2016-04-29T00:00:00Z             0      No  \n",
       "4      2016-04-29T00:00:00Z             0      No  \n",
       "...                     ...           ...     ...  \n",
       "99485  2016-06-07T00:00:00Z             1      No  \n",
       "99486  2016-06-07T00:00:00Z             1      No  \n",
       "99487  2016-06-07T00:00:00Z             1      No  \n",
       "99488  2016-06-07T00:00:00Z             1      No  \n",
       "99489  2016-06-07T00:00:00Z             1      No  \n",
       "\n",
       "[99490 rows x 6 columns]>"
      ]
     },
     "execution_count": 77,
     "metadata": {},
     "output_type": "execute_result"
    }
   ],
   "source": [
    "Medicine_train.info"
   ]
  },
  {
   "cell_type": "code",
   "execution_count": 5,
   "id": "74c00c83",
   "metadata": {},
   "outputs": [],
   "source": [
    "med=pd.read_csv(r\"G:\\Python_new\\Project6\\medical_history.csv\")"
   ]
  },
  {
   "cell_type": "code",
   "execution_count": 61,
   "id": "d35a81fb",
   "metadata": {},
   "outputs": [
    {
     "data": {
      "text/plain": [
       "(62299, 5)"
      ]
     },
     "execution_count": 61,
     "metadata": {},
     "output_type": "execute_result"
    }
   ],
   "source": [
    "med.shape"
   ]
  },
  {
   "cell_type": "code",
   "execution_count": 60,
   "id": "0d6abcb0",
   "metadata": {
    "scrolled": false
   },
   "outputs": [
    {
     "data": {
      "text/html": [
       "<div>\n",
       "<style scoped>\n",
       "    .dataframe tbody tr th:only-of-type {\n",
       "        vertical-align: middle;\n",
       "    }\n",
       "\n",
       "    .dataframe tbody tr th {\n",
       "        vertical-align: top;\n",
       "    }\n",
       "\n",
       "    .dataframe thead th {\n",
       "        text-align: right;\n",
       "    }\n",
       "</style>\n",
       "<table border=\"1\" class=\"dataframe\">\n",
       "  <thead>\n",
       "    <tr style=\"text-align: right;\">\n",
       "      <th></th>\n",
       "      <th>PatientId</th>\n",
       "      <th>Hipertension</th>\n",
       "      <th>Diabetes</th>\n",
       "      <th>Alcoholism</th>\n",
       "      <th>Handcap</th>\n",
       "    </tr>\n",
       "  </thead>\n",
       "  <tbody>\n",
       "    <tr>\n",
       "      <th>4</th>\n",
       "      <td>8.841186e+12</td>\n",
       "      <td>1</td>\n",
       "      <td>1</td>\n",
       "      <td>0</td>\n",
       "      <td>0</td>\n",
       "    </tr>\n",
       "    <tr>\n",
       "      <th>35</th>\n",
       "      <td>7.298459e+13</td>\n",
       "      <td>1</td>\n",
       "      <td>1</td>\n",
       "      <td>0</td>\n",
       "      <td>0</td>\n",
       "    </tr>\n",
       "    <tr>\n",
       "      <th>36</th>\n",
       "      <td>1.578132e+12</td>\n",
       "      <td>1</td>\n",
       "      <td>1</td>\n",
       "      <td>0</td>\n",
       "      <td>0</td>\n",
       "    </tr>\n",
       "    <tr>\n",
       "      <th>43</th>\n",
       "      <td>2.741649e+11</td>\n",
       "      <td>1</td>\n",
       "      <td>1</td>\n",
       "      <td>0</td>\n",
       "      <td>0</td>\n",
       "    </tr>\n",
       "    <tr>\n",
       "      <th>46</th>\n",
       "      <td>5.894585e+11</td>\n",
       "      <td>1</td>\n",
       "      <td>1</td>\n",
       "      <td>0</td>\n",
       "      <td>0</td>\n",
       "    </tr>\n",
       "    <tr>\n",
       "      <th>...</th>\n",
       "      <td>...</td>\n",
       "      <td>...</td>\n",
       "      <td>...</td>\n",
       "      <td>...</td>\n",
       "      <td>...</td>\n",
       "    </tr>\n",
       "    <tr>\n",
       "      <th>62173</th>\n",
       "      <td>6.937144e+13</td>\n",
       "      <td>1</td>\n",
       "      <td>1</td>\n",
       "      <td>0</td>\n",
       "      <td>0</td>\n",
       "    </tr>\n",
       "    <tr>\n",
       "      <th>62179</th>\n",
       "      <td>2.998129e+12</td>\n",
       "      <td>1</td>\n",
       "      <td>1</td>\n",
       "      <td>0</td>\n",
       "      <td>0</td>\n",
       "    </tr>\n",
       "    <tr>\n",
       "      <th>62183</th>\n",
       "      <td>3.327696e+09</td>\n",
       "      <td>1</td>\n",
       "      <td>1</td>\n",
       "      <td>0</td>\n",
       "      <td>0</td>\n",
       "    </tr>\n",
       "    <tr>\n",
       "      <th>62276</th>\n",
       "      <td>4.994742e+12</td>\n",
       "      <td>1</td>\n",
       "      <td>1</td>\n",
       "      <td>0</td>\n",
       "      <td>0</td>\n",
       "    </tr>\n",
       "    <tr>\n",
       "      <th>62282</th>\n",
       "      <td>3.227475e+11</td>\n",
       "      <td>1</td>\n",
       "      <td>1</td>\n",
       "      <td>0</td>\n",
       "      <td>0</td>\n",
       "    </tr>\n",
       "  </tbody>\n",
       "</table>\n",
       "<p>3583 rows × 5 columns</p>\n",
       "</div>"
      ],
      "text/plain": [
       "          PatientId  Hipertension  Diabetes  Alcoholism  Handcap\n",
       "4      8.841186e+12             1         1           0        0\n",
       "35     7.298459e+13             1         1           0        0\n",
       "36     1.578132e+12             1         1           0        0\n",
       "43     2.741649e+11             1         1           0        0\n",
       "46     5.894585e+11             1         1           0        0\n",
       "...             ...           ...       ...         ...      ...\n",
       "62173  6.937144e+13             1         1           0        0\n",
       "62179  2.998129e+12             1         1           0        0\n",
       "62183  3.327696e+09             1         1           0        0\n",
       "62276  4.994742e+12             1         1           0        0\n",
       "62282  3.227475e+11             1         1           0        0\n",
       "\n",
       "[3583 rows x 5 columns]"
      ]
     },
     "execution_count": 60,
     "metadata": {},
     "output_type": "execute_result"
    }
   ],
   "source": [
    "med.loc[(med[\"Hipertension\"]==1) & (med[\"Diabetes\"]==1) , :]"
   ]
  },
  {
   "cell_type": "code",
   "execution_count": 62,
   "id": "dc566639",
   "metadata": {},
   "outputs": [
    {
     "data": {
      "text/plain": [
       "0.05751296168477825"
      ]
     },
     "execution_count": 62,
     "metadata": {},
     "output_type": "execute_result"
    }
   ],
   "source": [
    "3583/62299"
   ]
  },
  {
   "cell_type": "code",
   "execution_count": 6,
   "id": "3d3fde31",
   "metadata": {},
   "outputs": [],
   "source": [
    "dem=pd.read_csv(r\"G:\\Python_new\\Project6\\demographic_details.csv\")"
   ]
  },
  {
   "cell_type": "code",
   "execution_count": 7,
   "id": "f9716145",
   "metadata": {},
   "outputs": [],
   "source": [
    "comb=pd.merge(med,dem,how='outer',on='PatientId')"
   ]
  },
  {
   "cell_type": "code",
   "execution_count": 8,
   "id": "25a1bcfc",
   "metadata": {},
   "outputs": [],
   "source": [
    "train=pd.merge(Medicine_train,comb,how='left',on='PatientId')\n",
    "test1=pd.merge(Medicine_test,comb,how='left',on='PatientId')"
   ]
  },
  {
   "cell_type": "code",
   "execution_count": 88,
   "id": "55032f49",
   "metadata": {},
   "outputs": [],
   "source": [
    "train.to_csv(r\"G:\\Python_new\\Project6\\train_complete.csv\",index=False)"
   ]
  },
  {
   "cell_type": "code",
   "execution_count": 9,
   "id": "6fea471e",
   "metadata": {
    "scrolled": true
   },
   "outputs": [],
   "source": [
    "train_data,test_data=train_test_split(train,test_size=0.2,random_state=42)"
   ]
  },
  {
   "cell_type": "code",
   "execution_count": 10,
   "id": "d8a3a0df",
   "metadata": {},
   "outputs": [],
   "source": [
    "train_data.to_csv(r\"G:\\Python_new\\Project6\\bd_train.csv\",index=False)\n",
    "test_data.to_csv(r\"G:\\Python_new\\Project6\\bd_test.csv\",index=False)\n",
    "test1.to_csv(r\"G:\\Python_new\\Project6\\test.csv\",index=False)"
   ]
  },
  {
   "cell_type": "code",
   "execution_count": 11,
   "id": "aec72a8a",
   "metadata": {},
   "outputs": [],
   "source": [
    "bd_train=pd.read_csv(r\"G:\\Python_new\\Project6\\bd_train.csv\")\n",
    "bd_test=pd.read_csv(r\"G:\\Python_new\\Project6\\bd_test.csv\")\n",
    "test=pd.read_csv(r\"G:\\Python_new\\Project6\\test.csv\")"
   ]
  },
  {
   "cell_type": "code",
   "execution_count": 12,
   "id": "9a9f032a",
   "metadata": {
    "scrolled": false
   },
   "outputs": [
    {
     "data": {
      "text/html": [
       "<div>\n",
       "<style scoped>\n",
       "    .dataframe tbody tr th:only-of-type {\n",
       "        vertical-align: middle;\n",
       "    }\n",
       "\n",
       "    .dataframe tbody tr th {\n",
       "        vertical-align: top;\n",
       "    }\n",
       "\n",
       "    .dataframe thead th {\n",
       "        text-align: right;\n",
       "    }\n",
       "</style>\n",
       "<table border=\"1\" class=\"dataframe\">\n",
       "  <thead>\n",
       "    <tr style=\"text-align: right;\">\n",
       "      <th></th>\n",
       "      <th>PatientId</th>\n",
       "      <th>AppointmentID</th>\n",
       "      <th>ScheduledDay</th>\n",
       "      <th>AppointmentDay</th>\n",
       "      <th>SMS_received</th>\n",
       "      <th>No-show</th>\n",
       "      <th>Hipertension</th>\n",
       "      <th>Diabetes</th>\n",
       "      <th>Alcoholism</th>\n",
       "      <th>Handcap</th>\n",
       "      <th>Gender</th>\n",
       "      <th>Age</th>\n",
       "      <th>Neighbourhood</th>\n",
       "      <th>Scholarship</th>\n",
       "    </tr>\n",
       "  </thead>\n",
       "  <tbody>\n",
       "    <tr>\n",
       "      <th>0</th>\n",
       "      <td>3.334786e+11</td>\n",
       "      <td>5577062</td>\n",
       "      <td>2016-04-13T09:25:26Z</td>\n",
       "      <td>2016-05-11T00:00:00Z</td>\n",
       "      <td>1</td>\n",
       "      <td>Yes</td>\n",
       "      <td>0</td>\n",
       "      <td>0</td>\n",
       "      <td>0</td>\n",
       "      <td>0</td>\n",
       "      <td>M</td>\n",
       "      <td>8</td>\n",
       "      <td>RESISTÊNCIA</td>\n",
       "      <td>0</td>\n",
       "    </tr>\n",
       "    <tr>\n",
       "      <th>1</th>\n",
       "      <td>1.198157e+12</td>\n",
       "      <td>5683827</td>\n",
       "      <td>2016-05-11T07:55:08Z</td>\n",
       "      <td>2016-05-11T00:00:00Z</td>\n",
       "      <td>0</td>\n",
       "      <td>Yes</td>\n",
       "      <td>0</td>\n",
       "      <td>0</td>\n",
       "      <td>0</td>\n",
       "      <td>0</td>\n",
       "      <td>M</td>\n",
       "      <td>10</td>\n",
       "      <td>NOVA PALESTINA</td>\n",
       "      <td>1</td>\n",
       "    </tr>\n",
       "    <tr>\n",
       "      <th>2</th>\n",
       "      <td>9.587963e+14</td>\n",
       "      <td>5698577</td>\n",
       "      <td>2016-05-16T07:41:12Z</td>\n",
       "      <td>2016-05-16T00:00:00Z</td>\n",
       "      <td>0</td>\n",
       "      <td>No</td>\n",
       "      <td>0</td>\n",
       "      <td>0</td>\n",
       "      <td>0</td>\n",
       "      <td>0</td>\n",
       "      <td>F</td>\n",
       "      <td>33</td>\n",
       "      <td>PRAIA DO CANTO</td>\n",
       "      <td>0</td>\n",
       "    </tr>\n",
       "    <tr>\n",
       "      <th>3</th>\n",
       "      <td>3.219194e+12</td>\n",
       "      <td>5638632</td>\n",
       "      <td>2016-04-29T08:14:31Z</td>\n",
       "      <td>2016-05-30T00:00:00Z</td>\n",
       "      <td>1</td>\n",
       "      <td>No</td>\n",
       "      <td>0</td>\n",
       "      <td>0</td>\n",
       "      <td>0</td>\n",
       "      <td>0</td>\n",
       "      <td>M</td>\n",
       "      <td>22</td>\n",
       "      <td>INHANGUETÁ</td>\n",
       "      <td>0</td>\n",
       "    </tr>\n",
       "    <tr>\n",
       "      <th>4</th>\n",
       "      <td>9.975853e+14</td>\n",
       "      <td>5732389</td>\n",
       "      <td>2016-05-24T11:25:22Z</td>\n",
       "      <td>2016-06-03T00:00:00Z</td>\n",
       "      <td>0</td>\n",
       "      <td>No</td>\n",
       "      <td>0</td>\n",
       "      <td>0</td>\n",
       "      <td>0</td>\n",
       "      <td>0</td>\n",
       "      <td>F</td>\n",
       "      <td>79</td>\n",
       "      <td>REPÚBLICA</td>\n",
       "      <td>0</td>\n",
       "    </tr>\n",
       "    <tr>\n",
       "      <th>...</th>\n",
       "      <td>...</td>\n",
       "      <td>...</td>\n",
       "      <td>...</td>\n",
       "      <td>...</td>\n",
       "      <td>...</td>\n",
       "      <td>...</td>\n",
       "      <td>...</td>\n",
       "      <td>...</td>\n",
       "      <td>...</td>\n",
       "      <td>...</td>\n",
       "      <td>...</td>\n",
       "      <td>...</td>\n",
       "      <td>...</td>\n",
       "      <td>...</td>\n",
       "    </tr>\n",
       "    <tr>\n",
       "      <th>79587</th>\n",
       "      <td>6.919555e+13</td>\n",
       "      <td>5705134</td>\n",
       "      <td>2016-05-16T18:37:44Z</td>\n",
       "      <td>2016-05-19T00:00:00Z</td>\n",
       "      <td>0</td>\n",
       "      <td>No</td>\n",
       "      <td>1</td>\n",
       "      <td>0</td>\n",
       "      <td>1</td>\n",
       "      <td>0</td>\n",
       "      <td>M</td>\n",
       "      <td>53</td>\n",
       "      <td>SANTO ANDRÉ</td>\n",
       "      <td>0</td>\n",
       "    </tr>\n",
       "    <tr>\n",
       "      <th>79588</th>\n",
       "      <td>4.486625e+14</td>\n",
       "      <td>5679560</td>\n",
       "      <td>2016-05-10T10:06:43Z</td>\n",
       "      <td>2016-05-12T00:00:00Z</td>\n",
       "      <td>0</td>\n",
       "      <td>No</td>\n",
       "      <td>0</td>\n",
       "      <td>0</td>\n",
       "      <td>0</td>\n",
       "      <td>0</td>\n",
       "      <td>M</td>\n",
       "      <td>19</td>\n",
       "      <td>GURIGICA</td>\n",
       "      <td>0</td>\n",
       "    </tr>\n",
       "    <tr>\n",
       "      <th>79589</th>\n",
       "      <td>2.135451e+13</td>\n",
       "      <td>5763038</td>\n",
       "      <td>2016-06-02T08:29:06Z</td>\n",
       "      <td>2016-06-03T00:00:00Z</td>\n",
       "      <td>0</td>\n",
       "      <td>No</td>\n",
       "      <td>0</td>\n",
       "      <td>0</td>\n",
       "      <td>0</td>\n",
       "      <td>0</td>\n",
       "      <td>M</td>\n",
       "      <td>43</td>\n",
       "      <td>TABUAZEIRO</td>\n",
       "      <td>0</td>\n",
       "    </tr>\n",
       "    <tr>\n",
       "      <th>79590</th>\n",
       "      <td>5.995927e+12</td>\n",
       "      <td>5536318</td>\n",
       "      <td>2016-04-01T08:29:54Z</td>\n",
       "      <td>2016-04-29T00:00:00Z</td>\n",
       "      <td>1</td>\n",
       "      <td>No</td>\n",
       "      <td>0</td>\n",
       "      <td>0</td>\n",
       "      <td>0</td>\n",
       "      <td>0</td>\n",
       "      <td>F</td>\n",
       "      <td>75</td>\n",
       "      <td>JARDIM CAMBURI</td>\n",
       "      <td>0</td>\n",
       "    </tr>\n",
       "    <tr>\n",
       "      <th>79591</th>\n",
       "      <td>2.678925e+12</td>\n",
       "      <td>5637988</td>\n",
       "      <td>2016-04-29T07:36:16Z</td>\n",
       "      <td>2016-05-05T00:00:00Z</td>\n",
       "      <td>0</td>\n",
       "      <td>No</td>\n",
       "      <td>0</td>\n",
       "      <td>0</td>\n",
       "      <td>0</td>\n",
       "      <td>0</td>\n",
       "      <td>M</td>\n",
       "      <td>10</td>\n",
       "      <td>SÃO JOSÉ</td>\n",
       "      <td>0</td>\n",
       "    </tr>\n",
       "  </tbody>\n",
       "</table>\n",
       "<p>79592 rows × 14 columns</p>\n",
       "</div>"
      ],
      "text/plain": [
       "          PatientId  AppointmentID          ScheduledDay  \\\n",
       "0      3.334786e+11        5577062  2016-04-13T09:25:26Z   \n",
       "1      1.198157e+12        5683827  2016-05-11T07:55:08Z   \n",
       "2      9.587963e+14        5698577  2016-05-16T07:41:12Z   \n",
       "3      3.219194e+12        5638632  2016-04-29T08:14:31Z   \n",
       "4      9.975853e+14        5732389  2016-05-24T11:25:22Z   \n",
       "...             ...            ...                   ...   \n",
       "79587  6.919555e+13        5705134  2016-05-16T18:37:44Z   \n",
       "79588  4.486625e+14        5679560  2016-05-10T10:06:43Z   \n",
       "79589  2.135451e+13        5763038  2016-06-02T08:29:06Z   \n",
       "79590  5.995927e+12        5536318  2016-04-01T08:29:54Z   \n",
       "79591  2.678925e+12        5637988  2016-04-29T07:36:16Z   \n",
       "\n",
       "             AppointmentDay  SMS_received No-show  Hipertension  Diabetes  \\\n",
       "0      2016-05-11T00:00:00Z             1     Yes             0         0   \n",
       "1      2016-05-11T00:00:00Z             0     Yes             0         0   \n",
       "2      2016-05-16T00:00:00Z             0      No             0         0   \n",
       "3      2016-05-30T00:00:00Z             1      No             0         0   \n",
       "4      2016-06-03T00:00:00Z             0      No             0         0   \n",
       "...                     ...           ...     ...           ...       ...   \n",
       "79587  2016-05-19T00:00:00Z             0      No             1         0   \n",
       "79588  2016-05-12T00:00:00Z             0      No             0         0   \n",
       "79589  2016-06-03T00:00:00Z             0      No             0         0   \n",
       "79590  2016-04-29T00:00:00Z             1      No             0         0   \n",
       "79591  2016-05-05T00:00:00Z             0      No             0         0   \n",
       "\n",
       "       Alcoholism  Handcap Gender  Age   Neighbourhood  Scholarship  \n",
       "0               0        0      M    8     RESISTÊNCIA            0  \n",
       "1               0        0      M   10  NOVA PALESTINA            1  \n",
       "2               0        0      F   33  PRAIA DO CANTO            0  \n",
       "3               0        0      M   22      INHANGUETÁ            0  \n",
       "4               0        0      F   79       REPÚBLICA            0  \n",
       "...           ...      ...    ...  ...             ...          ...  \n",
       "79587           1        0      M   53     SANTO ANDRÉ            0  \n",
       "79588           0        0      M   19        GURIGICA            0  \n",
       "79589           0        0      M   43      TABUAZEIRO            0  \n",
       "79590           0        0      F   75  JARDIM CAMBURI            0  \n",
       "79591           0        0      M   10        SÃO JOSÉ            0  \n",
       "\n",
       "[79592 rows x 14 columns]"
      ]
     },
     "execution_count": 12,
     "metadata": {},
     "output_type": "execute_result"
    }
   ],
   "source": [
    "bd_train"
   ]
  },
  {
   "cell_type": "code",
   "execution_count": 13,
   "id": "ecdf8881",
   "metadata": {
    "scrolled": false
   },
   "outputs": [
    {
     "data": {
      "text/html": [
       "<div>\n",
       "<style scoped>\n",
       "    .dataframe tbody tr th:only-of-type {\n",
       "        vertical-align: middle;\n",
       "    }\n",
       "\n",
       "    .dataframe tbody tr th {\n",
       "        vertical-align: top;\n",
       "    }\n",
       "\n",
       "    .dataframe thead th {\n",
       "        text-align: right;\n",
       "    }\n",
       "</style>\n",
       "<table border=\"1\" class=\"dataframe\">\n",
       "  <thead>\n",
       "    <tr style=\"text-align: right;\">\n",
       "      <th></th>\n",
       "      <th>PatientId</th>\n",
       "      <th>AppointmentID</th>\n",
       "      <th>ScheduledDay</th>\n",
       "      <th>AppointmentDay</th>\n",
       "      <th>SMS_received</th>\n",
       "      <th>No-show</th>\n",
       "      <th>Hipertension</th>\n",
       "      <th>Diabetes</th>\n",
       "      <th>Alcoholism</th>\n",
       "      <th>Handcap</th>\n",
       "      <th>Gender</th>\n",
       "      <th>Age</th>\n",
       "      <th>Neighbourhood</th>\n",
       "      <th>Scholarship</th>\n",
       "    </tr>\n",
       "  </thead>\n",
       "  <tbody>\n",
       "    <tr>\n",
       "      <th>0</th>\n",
       "      <td>5.351772e+13</td>\n",
       "      <td>5662410</td>\n",
       "      <td>2016-05-05T08:30:34Z</td>\n",
       "      <td>2016-05-25T00:00:00Z</td>\n",
       "      <td>1</td>\n",
       "      <td>No</td>\n",
       "      <td>0</td>\n",
       "      <td>0</td>\n",
       "      <td>0</td>\n",
       "      <td>0</td>\n",
       "      <td>F</td>\n",
       "      <td>34</td>\n",
       "      <td>SANTA MARTHA</td>\n",
       "      <td>1</td>\n",
       "    </tr>\n",
       "    <tr>\n",
       "      <th>1</th>\n",
       "      <td>5.335172e+13</td>\n",
       "      <td>5665253</td>\n",
       "      <td>2016-05-05T14:09:17Z</td>\n",
       "      <td>2016-05-06T00:00:00Z</td>\n",
       "      <td>0</td>\n",
       "      <td>Yes</td>\n",
       "      <td>0</td>\n",
       "      <td>0</td>\n",
       "      <td>0</td>\n",
       "      <td>0</td>\n",
       "      <td>F</td>\n",
       "      <td>17</td>\n",
       "      <td>VILA RUBIM</td>\n",
       "      <td>0</td>\n",
       "    </tr>\n",
       "    <tr>\n",
       "      <th>2</th>\n",
       "      <td>1.937423e+13</td>\n",
       "      <td>5765491</td>\n",
       "      <td>2016-06-02T13:07:05Z</td>\n",
       "      <td>2016-06-02T00:00:00Z</td>\n",
       "      <td>0</td>\n",
       "      <td>No</td>\n",
       "      <td>0</td>\n",
       "      <td>0</td>\n",
       "      <td>0</td>\n",
       "      <td>0</td>\n",
       "      <td>F</td>\n",
       "      <td>59</td>\n",
       "      <td>ILHA DE SANTA MARIA</td>\n",
       "      <td>0</td>\n",
       "    </tr>\n",
       "    <tr>\n",
       "      <th>3</th>\n",
       "      <td>1.527514e+13</td>\n",
       "      <td>5639323</td>\n",
       "      <td>2016-04-29T08:57:23Z</td>\n",
       "      <td>2016-05-05T00:00:00Z</td>\n",
       "      <td>1</td>\n",
       "      <td>No</td>\n",
       "      <td>0</td>\n",
       "      <td>0</td>\n",
       "      <td>0</td>\n",
       "      <td>0</td>\n",
       "      <td>F</td>\n",
       "      <td>51</td>\n",
       "      <td>DA PENHA</td>\n",
       "      <td>0</td>\n",
       "    </tr>\n",
       "    <tr>\n",
       "      <th>4</th>\n",
       "      <td>4.113917e+12</td>\n",
       "      <td>5655158</td>\n",
       "      <td>2016-05-03T16:08:25Z</td>\n",
       "      <td>2016-05-04T00:00:00Z</td>\n",
       "      <td>0</td>\n",
       "      <td>No</td>\n",
       "      <td>1</td>\n",
       "      <td>0</td>\n",
       "      <td>0</td>\n",
       "      <td>0</td>\n",
       "      <td>F</td>\n",
       "      <td>51</td>\n",
       "      <td>ITARARÉ</td>\n",
       "      <td>0</td>\n",
       "    </tr>\n",
       "    <tr>\n",
       "      <th>...</th>\n",
       "      <td>...</td>\n",
       "      <td>...</td>\n",
       "      <td>...</td>\n",
       "      <td>...</td>\n",
       "      <td>...</td>\n",
       "      <td>...</td>\n",
       "      <td>...</td>\n",
       "      <td>...</td>\n",
       "      <td>...</td>\n",
       "      <td>...</td>\n",
       "      <td>...</td>\n",
       "      <td>...</td>\n",
       "      <td>...</td>\n",
       "      <td>...</td>\n",
       "    </tr>\n",
       "    <tr>\n",
       "      <th>19893</th>\n",
       "      <td>5.865239e+13</td>\n",
       "      <td>5675121</td>\n",
       "      <td>2016-05-09T13:06:45Z</td>\n",
       "      <td>2016-05-09T00:00:00Z</td>\n",
       "      <td>0</td>\n",
       "      <td>No</td>\n",
       "      <td>0</td>\n",
       "      <td>0</td>\n",
       "      <td>0</td>\n",
       "      <td>0</td>\n",
       "      <td>F</td>\n",
       "      <td>15</td>\n",
       "      <td>GURIGICA</td>\n",
       "      <td>0</td>\n",
       "    </tr>\n",
       "    <tr>\n",
       "      <th>19894</th>\n",
       "      <td>5.354813e+14</td>\n",
       "      <td>5741815</td>\n",
       "      <td>2016-05-30T07:27:10Z</td>\n",
       "      <td>2016-06-03T00:00:00Z</td>\n",
       "      <td>1</td>\n",
       "      <td>No</td>\n",
       "      <td>0</td>\n",
       "      <td>0</td>\n",
       "      <td>0</td>\n",
       "      <td>0</td>\n",
       "      <td>F</td>\n",
       "      <td>3</td>\n",
       "      <td>CRUZAMENTO</td>\n",
       "      <td>0</td>\n",
       "    </tr>\n",
       "    <tr>\n",
       "      <th>19895</th>\n",
       "      <td>8.634164e+12</td>\n",
       "      <td>5677174</td>\n",
       "      <td>2016-05-09T18:23:05Z</td>\n",
       "      <td>2016-05-09T00:00:00Z</td>\n",
       "      <td>0</td>\n",
       "      <td>No</td>\n",
       "      <td>0</td>\n",
       "      <td>0</td>\n",
       "      <td>0</td>\n",
       "      <td>0</td>\n",
       "      <td>M</td>\n",
       "      <td>40</td>\n",
       "      <td>JUCUTUQUARA</td>\n",
       "      <td>0</td>\n",
       "    </tr>\n",
       "    <tr>\n",
       "      <th>19896</th>\n",
       "      <td>5.632912e+13</td>\n",
       "      <td>5705340</td>\n",
       "      <td>2016-05-17T07:06:40Z</td>\n",
       "      <td>2016-05-17T00:00:00Z</td>\n",
       "      <td>0</td>\n",
       "      <td>No</td>\n",
       "      <td>0</td>\n",
       "      <td>0</td>\n",
       "      <td>0</td>\n",
       "      <td>0</td>\n",
       "      <td>F</td>\n",
       "      <td>23</td>\n",
       "      <td>ILHA DAS CAIEIRAS</td>\n",
       "      <td>0</td>\n",
       "    </tr>\n",
       "    <tr>\n",
       "      <th>19897</th>\n",
       "      <td>3.278775e+10</td>\n",
       "      <td>5635515</td>\n",
       "      <td>2016-04-28T13:39:59Z</td>\n",
       "      <td>2016-05-02T00:00:00Z</td>\n",
       "      <td>1</td>\n",
       "      <td>No</td>\n",
       "      <td>0</td>\n",
       "      <td>0</td>\n",
       "      <td>0</td>\n",
       "      <td>0</td>\n",
       "      <td>F</td>\n",
       "      <td>17</td>\n",
       "      <td>JABOUR</td>\n",
       "      <td>0</td>\n",
       "    </tr>\n",
       "  </tbody>\n",
       "</table>\n",
       "<p>19898 rows × 14 columns</p>\n",
       "</div>"
      ],
      "text/plain": [
       "          PatientId  AppointmentID          ScheduledDay  \\\n",
       "0      5.351772e+13        5662410  2016-05-05T08:30:34Z   \n",
       "1      5.335172e+13        5665253  2016-05-05T14:09:17Z   \n",
       "2      1.937423e+13        5765491  2016-06-02T13:07:05Z   \n",
       "3      1.527514e+13        5639323  2016-04-29T08:57:23Z   \n",
       "4      4.113917e+12        5655158  2016-05-03T16:08:25Z   \n",
       "...             ...            ...                   ...   \n",
       "19893  5.865239e+13        5675121  2016-05-09T13:06:45Z   \n",
       "19894  5.354813e+14        5741815  2016-05-30T07:27:10Z   \n",
       "19895  8.634164e+12        5677174  2016-05-09T18:23:05Z   \n",
       "19896  5.632912e+13        5705340  2016-05-17T07:06:40Z   \n",
       "19897  3.278775e+10        5635515  2016-04-28T13:39:59Z   \n",
       "\n",
       "             AppointmentDay  SMS_received No-show  Hipertension  Diabetes  \\\n",
       "0      2016-05-25T00:00:00Z             1      No             0         0   \n",
       "1      2016-05-06T00:00:00Z             0     Yes             0         0   \n",
       "2      2016-06-02T00:00:00Z             0      No             0         0   \n",
       "3      2016-05-05T00:00:00Z             1      No             0         0   \n",
       "4      2016-05-04T00:00:00Z             0      No             1         0   \n",
       "...                     ...           ...     ...           ...       ...   \n",
       "19893  2016-05-09T00:00:00Z             0      No             0         0   \n",
       "19894  2016-06-03T00:00:00Z             1      No             0         0   \n",
       "19895  2016-05-09T00:00:00Z             0      No             0         0   \n",
       "19896  2016-05-17T00:00:00Z             0      No             0         0   \n",
       "19897  2016-05-02T00:00:00Z             1      No             0         0   \n",
       "\n",
       "       Alcoholism  Handcap Gender  Age        Neighbourhood  Scholarship  \n",
       "0               0        0      F   34         SANTA MARTHA            1  \n",
       "1               0        0      F   17           VILA RUBIM            0  \n",
       "2               0        0      F   59  ILHA DE SANTA MARIA            0  \n",
       "3               0        0      F   51             DA PENHA            0  \n",
       "4               0        0      F   51              ITARARÉ            0  \n",
       "...           ...      ...    ...  ...                  ...          ...  \n",
       "19893           0        0      F   15             GURIGICA            0  \n",
       "19894           0        0      F    3           CRUZAMENTO            0  \n",
       "19895           0        0      M   40          JUCUTUQUARA            0  \n",
       "19896           0        0      F   23    ILHA DAS CAIEIRAS            0  \n",
       "19897           0        0      F   17               JABOUR            0  \n",
       "\n",
       "[19898 rows x 14 columns]"
      ]
     },
     "execution_count": 13,
     "metadata": {},
     "output_type": "execute_result"
    }
   ],
   "source": [
    "bd_test"
   ]
  },
  {
   "cell_type": "code",
   "execution_count": 14,
   "id": "39fb2894",
   "metadata": {
    "scrolled": false
   },
   "outputs": [
    {
     "data": {
      "text/plain": [
       "PatientId         0\n",
       "AppointmentID     0\n",
       "ScheduledDay      0\n",
       "AppointmentDay    0\n",
       "SMS_received      0\n",
       "No-show           0\n",
       "Hipertension      0\n",
       "Diabetes          0\n",
       "Alcoholism        0\n",
       "Handcap           0\n",
       "Gender            0\n",
       "Age               0\n",
       "Neighbourhood     0\n",
       "Scholarship       0\n",
       "dtype: int64"
      ]
     },
     "execution_count": 14,
     "metadata": {},
     "output_type": "execute_result"
    }
   ],
   "source": [
    "bd_train.isnull().sum()"
   ]
  },
  {
   "cell_type": "code",
   "execution_count": 15,
   "id": "63fb550a",
   "metadata": {
    "scrolled": false
   },
   "outputs": [
    {
     "name": "stdout",
     "output_type": "stream",
     "text": [
      "<class 'pandas.core.frame.DataFrame'>\n",
      "RangeIndex: 79592 entries, 0 to 79591\n",
      "Data columns (total 14 columns):\n",
      " #   Column          Non-Null Count  Dtype  \n",
      "---  ------          --------------  -----  \n",
      " 0   PatientId       79592 non-null  float64\n",
      " 1   AppointmentID   79592 non-null  int64  \n",
      " 2   ScheduledDay    79592 non-null  object \n",
      " 3   AppointmentDay  79592 non-null  object \n",
      " 4   SMS_received    79592 non-null  int64  \n",
      " 5   No-show         79592 non-null  object \n",
      " 6   Hipertension    79592 non-null  int64  \n",
      " 7   Diabetes        79592 non-null  int64  \n",
      " 8   Alcoholism      79592 non-null  int64  \n",
      " 9   Handcap         79592 non-null  int64  \n",
      " 10  Gender          79592 non-null  object \n",
      " 11  Age             79592 non-null  int64  \n",
      " 12  Neighbourhood   79592 non-null  object \n",
      " 13  Scholarship     79592 non-null  int64  \n",
      "dtypes: float64(1), int64(8), object(5)\n",
      "memory usage: 8.5+ MB\n"
     ]
    }
   ],
   "source": [
    "bd_train.info()"
   ]
  },
  {
   "cell_type": "code",
   "execution_count": 16,
   "id": "307ef9e2",
   "metadata": {
    "scrolled": true
   },
   "outputs": [
    {
     "data": {
      "text/plain": [
       "array([[<Axes: title={'center': 'PatientId'}>,\n",
       "        <Axes: title={'center': 'AppointmentID'}>,\n",
       "        <Axes: title={'center': 'SMS_received'}>],\n",
       "       [<Axes: title={'center': 'Hipertension'}>,\n",
       "        <Axes: title={'center': 'Diabetes'}>,\n",
       "        <Axes: title={'center': 'Alcoholism'}>],\n",
       "       [<Axes: title={'center': 'Handcap'}>,\n",
       "        <Axes: title={'center': 'Age'}>,\n",
       "        <Axes: title={'center': 'Scholarship'}>]], dtype=object)"
      ]
     },
     "execution_count": 16,
     "metadata": {},
     "output_type": "execute_result"
    },
    {
     "data": {
      "image/png": "[encoded data removed]",
      "text/plain": [
       "<Figure size 640x480 with 9 Axes>"
      ]
     },
     "metadata": {},
     "output_type": "display_data"
    }
   ],
   "source": [
    "bd_train.hist()"
   ]
  },
  {
   "cell_type": "code",
   "execution_count": 17,
   "id": "0c267532",
   "metadata": {
    "scrolled": true
   },
   "outputs": [
    {
     "data": {
      "text/html": [
       "<div>\n",
       "<style scoped>\n",
       "    .dataframe tbody tr th:only-of-type {\n",
       "        vertical-align: middle;\n",
       "    }\n",
       "\n",
       "    .dataframe tbody tr th {\n",
       "        vertical-align: top;\n",
       "    }\n",
       "\n",
       "    .dataframe thead th {\n",
       "        text-align: right;\n",
       "    }\n",
       "</style>\n",
       "<table border=\"1\" class=\"dataframe\">\n",
       "  <thead>\n",
       "    <tr style=\"text-align: right;\">\n",
       "      <th></th>\n",
       "      <th>PatientId</th>\n",
       "      <th>AppointmentID</th>\n",
       "      <th>ScheduledDay</th>\n",
       "      <th>AppointmentDay</th>\n",
       "      <th>SMS_received</th>\n",
       "      <th>No-show</th>\n",
       "      <th>Hipertension</th>\n",
       "      <th>Diabetes</th>\n",
       "      <th>Alcoholism</th>\n",
       "      <th>Handcap</th>\n",
       "      <th>Gender</th>\n",
       "      <th>Age</th>\n",
       "      <th>Neighbourhood</th>\n",
       "      <th>Scholarship</th>\n",
       "    </tr>\n",
       "  </thead>\n",
       "  <tbody>\n",
       "    <tr>\n",
       "      <th>0</th>\n",
       "      <td>3.334786e+11</td>\n",
       "      <td>5577062</td>\n",
       "      <td>2016-04-13T09:25:26Z</td>\n",
       "      <td>2016-05-11T00:00:00Z</td>\n",
       "      <td>1</td>\n",
       "      <td>Yes</td>\n",
       "      <td>0</td>\n",
       "      <td>0</td>\n",
       "      <td>0</td>\n",
       "      <td>0</td>\n",
       "      <td>M</td>\n",
       "      <td>8</td>\n",
       "      <td>RESISTÊNCIA</td>\n",
       "      <td>0</td>\n",
       "    </tr>\n",
       "    <tr>\n",
       "      <th>1</th>\n",
       "      <td>1.198157e+12</td>\n",
       "      <td>5683827</td>\n",
       "      <td>2016-05-11T07:55:08Z</td>\n",
       "      <td>2016-05-11T00:00:00Z</td>\n",
       "      <td>0</td>\n",
       "      <td>Yes</td>\n",
       "      <td>0</td>\n",
       "      <td>0</td>\n",
       "      <td>0</td>\n",
       "      <td>0</td>\n",
       "      <td>M</td>\n",
       "      <td>10</td>\n",
       "      <td>NOVA PALESTINA</td>\n",
       "      <td>1</td>\n",
       "    </tr>\n",
       "    <tr>\n",
       "      <th>2</th>\n",
       "      <td>9.587963e+14</td>\n",
       "      <td>5698577</td>\n",
       "      <td>2016-05-16T07:41:12Z</td>\n",
       "      <td>2016-05-16T00:00:00Z</td>\n",
       "      <td>0</td>\n",
       "      <td>No</td>\n",
       "      <td>0</td>\n",
       "      <td>0</td>\n",
       "      <td>0</td>\n",
       "      <td>0</td>\n",
       "      <td>F</td>\n",
       "      <td>33</td>\n",
       "      <td>PRAIA DO CANTO</td>\n",
       "      <td>0</td>\n",
       "    </tr>\n",
       "    <tr>\n",
       "      <th>3</th>\n",
       "      <td>3.219194e+12</td>\n",
       "      <td>5638632</td>\n",
       "      <td>2016-04-29T08:14:31Z</td>\n",
       "      <td>2016-05-30T00:00:00Z</td>\n",
       "      <td>1</td>\n",
       "      <td>No</td>\n",
       "      <td>0</td>\n",
       "      <td>0</td>\n",
       "      <td>0</td>\n",
       "      <td>0</td>\n",
       "      <td>M</td>\n",
       "      <td>22</td>\n",
       "      <td>INHANGUETÁ</td>\n",
       "      <td>0</td>\n",
       "    </tr>\n",
       "    <tr>\n",
       "      <th>4</th>\n",
       "      <td>9.975853e+14</td>\n",
       "      <td>5732389</td>\n",
       "      <td>2016-05-24T11:25:22Z</td>\n",
       "      <td>2016-06-03T00:00:00Z</td>\n",
       "      <td>0</td>\n",
       "      <td>No</td>\n",
       "      <td>0</td>\n",
       "      <td>0</td>\n",
       "      <td>0</td>\n",
       "      <td>0</td>\n",
       "      <td>F</td>\n",
       "      <td>79</td>\n",
       "      <td>REPÚBLICA</td>\n",
       "      <td>0</td>\n",
       "    </tr>\n",
       "    <tr>\n",
       "      <th>...</th>\n",
       "      <td>...</td>\n",
       "      <td>...</td>\n",
       "      <td>...</td>\n",
       "      <td>...</td>\n",
       "      <td>...</td>\n",
       "      <td>...</td>\n",
       "      <td>...</td>\n",
       "      <td>...</td>\n",
       "      <td>...</td>\n",
       "      <td>...</td>\n",
       "      <td>...</td>\n",
       "      <td>...</td>\n",
       "      <td>...</td>\n",
       "      <td>...</td>\n",
       "    </tr>\n",
       "    <tr>\n",
       "      <th>79587</th>\n",
       "      <td>6.919555e+13</td>\n",
       "      <td>5705134</td>\n",
       "      <td>2016-05-16T18:37:44Z</td>\n",
       "      <td>2016-05-19T00:00:00Z</td>\n",
       "      <td>0</td>\n",
       "      <td>No</td>\n",
       "      <td>1</td>\n",
       "      <td>0</td>\n",
       "      <td>1</td>\n",
       "      <td>0</td>\n",
       "      <td>M</td>\n",
       "      <td>53</td>\n",
       "      <td>SANTO ANDRÉ</td>\n",
       "      <td>0</td>\n",
       "    </tr>\n",
       "    <tr>\n",
       "      <th>79588</th>\n",
       "      <td>4.486625e+14</td>\n",
       "      <td>5679560</td>\n",
       "      <td>2016-05-10T10:06:43Z</td>\n",
       "      <td>2016-05-12T00:00:00Z</td>\n",
       "      <td>0</td>\n",
       "      <td>No</td>\n",
       "      <td>0</td>\n",
       "      <td>0</td>\n",
       "      <td>0</td>\n",
       "      <td>0</td>\n",
       "      <td>M</td>\n",
       "      <td>19</td>\n",
       "      <td>GURIGICA</td>\n",
       "      <td>0</td>\n",
       "    </tr>\n",
       "    <tr>\n",
       "      <th>79589</th>\n",
       "      <td>2.135451e+13</td>\n",
       "      <td>5763038</td>\n",
       "      <td>2016-06-02T08:29:06Z</td>\n",
       "      <td>2016-06-03T00:00:00Z</td>\n",
       "      <td>0</td>\n",
       "      <td>No</td>\n",
       "      <td>0</td>\n",
       "      <td>0</td>\n",
       "      <td>0</td>\n",
       "      <td>0</td>\n",
       "      <td>M</td>\n",
       "      <td>43</td>\n",
       "      <td>TABUAZEIRO</td>\n",
       "      <td>0</td>\n",
       "    </tr>\n",
       "    <tr>\n",
       "      <th>79590</th>\n",
       "      <td>5.995927e+12</td>\n",
       "      <td>5536318</td>\n",
       "      <td>2016-04-01T08:29:54Z</td>\n",
       "      <td>2016-04-29T00:00:00Z</td>\n",
       "      <td>1</td>\n",
       "      <td>No</td>\n",
       "      <td>0</td>\n",
       "      <td>0</td>\n",
       "      <td>0</td>\n",
       "      <td>0</td>\n",
       "      <td>F</td>\n",
       "      <td>75</td>\n",
       "      <td>JARDIM CAMBURI</td>\n",
       "      <td>0</td>\n",
       "    </tr>\n",
       "    <tr>\n",
       "      <th>79591</th>\n",
       "      <td>2.678925e+12</td>\n",
       "      <td>5637988</td>\n",
       "      <td>2016-04-29T07:36:16Z</td>\n",
       "      <td>2016-05-05T00:00:00Z</td>\n",
       "      <td>0</td>\n",
       "      <td>No</td>\n",
       "      <td>0</td>\n",
       "      <td>0</td>\n",
       "      <td>0</td>\n",
       "      <td>0</td>\n",
       "      <td>M</td>\n",
       "      <td>10</td>\n",
       "      <td>SÃO JOSÉ</td>\n",
       "      <td>0</td>\n",
       "    </tr>\n",
       "  </tbody>\n",
       "</table>\n",
       "<p>79592 rows × 14 columns</p>\n",
       "</div>"
      ],
      "text/plain": [
       "          PatientId  AppointmentID          ScheduledDay  \\\n",
       "0      3.334786e+11        5577062  2016-04-13T09:25:26Z   \n",
       "1      1.198157e+12        5683827  2016-05-11T07:55:08Z   \n",
       "2      9.587963e+14        5698577  2016-05-16T07:41:12Z   \n",
       "3      3.219194e+12        5638632  2016-04-29T08:14:31Z   \n",
       "4      9.975853e+14        5732389  2016-05-24T11:25:22Z   \n",
       "...             ...            ...                   ...   \n",
       "79587  6.919555e+13        5705134  2016-05-16T18:37:44Z   \n",
       "79588  4.486625e+14        5679560  2016-05-10T10:06:43Z   \n",
       "79589  2.135451e+13        5763038  2016-06-02T08:29:06Z   \n",
       "79590  5.995927e+12        5536318  2016-04-01T08:29:54Z   \n",
       "79591  2.678925e+12        5637988  2016-04-29T07:36:16Z   \n",
       "\n",
       "             AppointmentDay  SMS_received No-show  Hipertension  Diabetes  \\\n",
       "0      2016-05-11T00:00:00Z             1     Yes             0         0   \n",
       "1      2016-05-11T00:00:00Z             0     Yes             0         0   \n",
       "2      2016-05-16T00:00:00Z             0      No             0         0   \n",
       "3      2016-05-30T00:00:00Z             1      No             0         0   \n",
       "4      2016-06-03T00:00:00Z             0      No             0         0   \n",
       "...                     ...           ...     ...           ...       ...   \n",
       "79587  2016-05-19T00:00:00Z             0      No             1         0   \n",
       "79588  2016-05-12T00:00:00Z             0      No             0         0   \n",
       "79589  2016-06-03T00:00:00Z             0      No             0         0   \n",
       "79590  2016-04-29T00:00:00Z             1      No             0         0   \n",
       "79591  2016-05-05T00:00:00Z             0      No             0         0   \n",
       "\n",
       "       Alcoholism  Handcap Gender  Age   Neighbourhood  Scholarship  \n",
       "0               0        0      M    8     RESISTÊNCIA            0  \n",
       "1               0        0      M   10  NOVA PALESTINA            1  \n",
       "2               0        0      F   33  PRAIA DO CANTO            0  \n",
       "3               0        0      M   22      INHANGUETÁ            0  \n",
       "4               0        0      F   79       REPÚBLICA            0  \n",
       "...           ...      ...    ...  ...             ...          ...  \n",
       "79587           1        0      M   53     SANTO ANDRÉ            0  \n",
       "79588           0        0      M   19        GURIGICA            0  \n",
       "79589           0        0      M   43      TABUAZEIRO            0  \n",
       "79590           0        0      F   75  JARDIM CAMBURI            0  \n",
       "79591           0        0      M   10        SÃO JOSÉ            0  \n",
       "\n",
       "[79592 rows x 14 columns]"
      ]
     },
     "execution_count": 17,
     "metadata": {},
     "output_type": "execute_result"
    }
   ],
   "source": [
    "bd_train"
   ]
  },
  {
   "cell_type": "code",
   "execution_count": 18,
   "id": "3cb0240b",
   "metadata": {},
   "outputs": [],
   "source": [
    "cat_var=[\"SMS_received\",\"Hipertension\",\"Diabetes\",\"Alcoholism\",\"Handcap\",\"Gender\",\"Neighbourhood\",\"Scholarship\"]"
   ]
  },
  {
   "cell_type": "code",
   "execution_count": 19,
   "id": "80e1d090",
   "metadata": {},
   "outputs": [],
   "source": [
    "bd_train[cat_var]=bd_train[cat_var].astype(object)\n",
    "bd_test[cat_var]=bd_test[cat_var].astype(object)\n",
    "test[cat_var]=test[cat_var].astype(object)"
   ]
  },
  {
   "cell_type": "code",
   "execution_count": 20,
   "id": "4668647e",
   "metadata": {
    "scrolled": true
   },
   "outputs": [
    {
     "name": "stdout",
     "output_type": "stream",
     "text": [
      "<class 'pandas.core.frame.DataFrame'>\n",
      "RangeIndex: 79592 entries, 0 to 79591\n",
      "Data columns (total 8 columns):\n",
      " #   Column         Non-Null Count  Dtype \n",
      "---  ------         --------------  ----- \n",
      " 0   SMS_received   79592 non-null  object\n",
      " 1   Hipertension   79592 non-null  object\n",
      " 2   Diabetes       79592 non-null  object\n",
      " 3   Alcoholism     79592 non-null  object\n",
      " 4   Handcap        79592 non-null  object\n",
      " 5   Gender         79592 non-null  object\n",
      " 6   Neighbourhood  79592 non-null  object\n",
      " 7   Scholarship    79592 non-null  object\n",
      "dtypes: object(8)\n",
      "memory usage: 4.9+ MB\n"
     ]
    }
   ],
   "source": [
    "bd_train[cat_var].info()\n"
   ]
  },
  {
   "cell_type": "code",
   "execution_count": 21,
   "id": "65802a24",
   "metadata": {
    "scrolled": true
   },
   "outputs": [
    {
     "name": "stdout",
     "output_type": "stream",
     "text": [
      "<class 'pandas.core.frame.DataFrame'>\n",
      "RangeIndex: 19898 entries, 0 to 19897\n",
      "Data columns (total 8 columns):\n",
      " #   Column         Non-Null Count  Dtype \n",
      "---  ------         --------------  ----- \n",
      " 0   SMS_received   19898 non-null  object\n",
      " 1   Hipertension   19898 non-null  object\n",
      " 2   Diabetes       19898 non-null  object\n",
      " 3   Alcoholism     19898 non-null  object\n",
      " 4   Handcap        19898 non-null  object\n",
      " 5   Gender         19898 non-null  object\n",
      " 6   Neighbourhood  19898 non-null  object\n",
      " 7   Scholarship    19898 non-null  object\n",
      "dtypes: object(8)\n",
      "memory usage: 1.2+ MB\n"
     ]
    }
   ],
   "source": [
    "bd_test[cat_var].info()"
   ]
  },
  {
   "cell_type": "code",
   "execution_count": 22,
   "id": "9331146f",
   "metadata": {},
   "outputs": [
    {
     "data": {
      "text/plain": [
       "99490"
      ]
     },
     "execution_count": 22,
     "metadata": {},
     "output_type": "execute_result"
    }
   ],
   "source": [
    "79592+19898"
   ]
  },
  {
   "cell_type": "code",
   "execution_count": 23,
   "id": "a1d8f65f",
   "metadata": {},
   "outputs": [],
   "source": [
    "num_var=[\"Age\"]"
   ]
  },
  {
   "cell_type": "code",
   "execution_count": 24,
   "id": "cd854529",
   "metadata": {},
   "outputs": [
    {
     "data": {
      "text/plain": [
       "2610"
      ]
     },
     "execution_count": 24,
     "metadata": {},
     "output_type": "execute_result"
    }
   ],
   "source": [
    "(bd_train[\"Age\"]==0).sum()"
   ]
  },
  {
   "cell_type": "code",
   "execution_count": 25,
   "id": "1155b1ae",
   "metadata": {},
   "outputs": [
    {
     "data": {
      "text/plain": [
       "641"
      ]
     },
     "execution_count": 25,
     "metadata": {},
     "output_type": "execute_result"
    }
   ],
   "source": [
    "(bd_test[\"Age\"]==0).sum()"
   ]
  },
  {
   "cell_type": "code",
   "execution_count": null,
   "id": "e3b9a035",
   "metadata": {},
   "outputs": [],
   "source": []
  },
  {
   "cell_type": "code",
   "execution_count": 26,
   "id": "729353de",
   "metadata": {},
   "outputs": [],
   "source": [
    "date_var=[\"ScheduledDay\",\"AppointmentDay\"]"
   ]
  },
  {
   "cell_type": "code",
   "execution_count": 27,
   "id": "046ea3ea",
   "metadata": {},
   "outputs": [],
   "source": [
    "from sklearn.pipeline import Pipeline,FeatureUnion\n",
    "from sklearn.base import BaseEstimator, TransformerMixin"
   ]
  },
  {
   "cell_type": "code",
   "execution_count": 28,
   "id": "b41af8b1",
   "metadata": {},
   "outputs": [],
   "source": [
    "p1=pdPipeline([\n",
    "    ('var_select',VarSelector(cat_var)), \n",
    "    ('data_frame_imputer',DataFrameImputer()),\n",
    "    ('get_dummies_Pipe',get_dummies_Pipe(20))\n",
    "])\n",
    "\n",
    "p2=pdPipeline([\n",
    "    ('var_select',VarSelector(num_var)),\n",
    "    ('data_frame_imputer',DataFrameImputer())\n",
    "])\n",
    "p3=pdPipeline([\n",
    "    ('var_select',VarSelector(date_var)),\n",
    "    ('Date_data',DateDifferenceExtractor()),\n",
    "])\n",
    "    "
   ]
  },
  {
   "cell_type": "code",
   "execution_count": 29,
   "id": "50da2844",
   "metadata": {},
   "outputs": [],
   "source": [
    "data_pipe=FeatureUnion([\n",
    "    ('p1',p1),\n",
    "    ('p2',p2),\n",
    "    ('p3',p3)\n",
    "])"
   ]
  },
  {
   "cell_type": "code",
   "execution_count": 30,
   "id": "ecd54f00",
   "metadata": {
    "scrolled": false
   },
   "outputs": [],
   "source": [
    "dp_fit=data_pipe.fit(bd_train)"
   ]
  },
  {
   "cell_type": "code",
   "execution_count": 31,
   "id": "e6eaacc0",
   "metadata": {
    "scrolled": true
   },
   "outputs": [
    {
     "data": {
      "text/plain": [
       "array(['p1__SMS_received_0', 'p1__Hipertension_0', 'p1__Diabetes_0',\n",
       "       'p1__Alcoholism_0', 'p1__Handcap_0', 'p1__Handcap_1',\n",
       "       'p1__Handcap_2', 'p1__Gender_F',\n",
       "       'p1__Neighbourhood_JARDIM CAMBURI',\n",
       "       'p1__Neighbourhood_MARIA ORTIZ', 'p1__Neighbourhood_RESISTÊNCIA',\n",
       "       'p1__Neighbourhood_JARDIM DA PENHA', 'p1__Neighbourhood_ITARARÉ',\n",
       "       'p1__Neighbourhood_CENTRO', 'p1__Neighbourhood_SANTA MARTHA',\n",
       "       'p1__Neighbourhood_TABUAZEIRO',\n",
       "       'p1__Neighbourhood_JESUS DE NAZARETH',\n",
       "       'p1__Neighbourhood_SANTO ANTÔNIO', 'p1__Neighbourhood_BONFIM',\n",
       "       'p1__Neighbourhood_SANTO ANDRÉ', 'p1__Neighbourhood_JABOUR',\n",
       "       'p1__Neighbourhood_CARATOÍRA', 'p1__Neighbourhood_SÃO PEDRO',\n",
       "       'p1__Neighbourhood_NOVA PALESTINA',\n",
       "       'p1__Neighbourhood_ILHA DO PRÍNCIPE', 'p1__Neighbourhood_DA PENHA',\n",
       "       'p1__Neighbourhood_ANDORINHAS', 'p1__Neighbourhood_ROMÃO',\n",
       "       'p1__Neighbourhood_GURIGICA', 'p1__Neighbourhood_BELA VISTA',\n",
       "       'p1__Neighbourhood_MARUÍPE',\n",
       "       'p1__Neighbourhood_ILHA DE SANTA MARIA',\n",
       "       'p1__Neighbourhood_SÃO JOSÉ', 'p1__Neighbourhood_SÃO CRISTÓVÃO',\n",
       "       'p1__Neighbourhood_FORTE SÃO JOÃO', 'p1__Neighbourhood_REDENÇÃO',\n",
       "       'p1__Neighbourhood_SÃO BENEDITO', 'p1__Neighbourhood_JOANA D´ARC',\n",
       "       'p1__Neighbourhood_CRUZAMENTO', 'p1__Neighbourhood_CONSOLAÇÃO',\n",
       "       'p1__Neighbourhood_SANTA TEREZA', 'p1__Neighbourhood_PRAIA DO SUÁ',\n",
       "       'p1__Neighbourhood_SANTOS DUMONT',\n",
       "       'p1__Neighbourhood_ILHA DAS CAIEIRAS',\n",
       "       'p1__Neighbourhood_GRANDE VITÓRIA', 'p1__Neighbourhood_INHANGUETÁ',\n",
       "       'p1__Neighbourhood_PRAIA DO CANTO', 'p1__Neighbourhood_VILA RUBIM',\n",
       "       'p1__Neighbourhood_BENTO FERREIRA', 'p1__Neighbourhood_REPÚBLICA',\n",
       "       'p1__Neighbourhood_DO QUADRO', 'p1__Neighbourhood_CONQUISTA',\n",
       "       'p1__Neighbourhood_PARQUE MOSCOSO', 'p1__Neighbourhood_MONTE BELO',\n",
       "       'p1__Neighbourhood_GOIABEIRAS', 'p1__Neighbourhood_JUCUTUQUARA',\n",
       "       'p1__Neighbourhood_FONTE GRANDE',\n",
       "       'p1__Neighbourhood_MATA DA PRAIA', 'p1__Neighbourhood_DO CABRAL',\n",
       "       'p1__Neighbourhood_SANTOS REIS', 'p1__Neighbourhood_ESTRELINHA',\n",
       "       'p1__Neighbourhood_SANTA CLARA', 'p1__Neighbourhood_SOLON BORGES',\n",
       "       'p1__Neighbourhood_PIEDADE', 'p1__Neighbourhood_SANTA LÚCIA',\n",
       "       'p1__Neighbourhood_SANTA CECÍLIA', 'p1__Neighbourhood_SANTA LUÍZA',\n",
       "       'p1__Neighbourhood_DO MOSCOSO', 'p1__Neighbourhood_BARRO VERMELHO',\n",
       "       'p1__Neighbourhood_MÁRIO CYPRESTE', 'p1__Neighbourhood_BOA VISTA',\n",
       "       'p1__Neighbourhood_COMDUSA',\n",
       "       'p1__Neighbourhood_ARIOVALDO FAVALESSA',\n",
       "       'p1__Neighbourhood_ANTÔNIO HONÓRIO',\n",
       "       'p1__Neighbourhood_DE LOURDES', 'p1__Neighbourhood_FRADINHOS',\n",
       "       'p1__Neighbourhood_ENSEADA DO SUÁ', 'p1__Neighbourhood_HORTO',\n",
       "       'p1__Neighbourhood_SANTA HELENA',\n",
       "       'p1__Neighbourhood_SEGURANÇA DO LAR',\n",
       "       'p1__Neighbourhood_UNIVERSITÁRIO', 'p1__Neighbourhood_NAZARETH',\n",
       "       'p1__Neighbourhood_MORADA DE CAMBURI',\n",
       "       'p1__Neighbourhood_PONTAL DE CAMBURI',\n",
       "       'p1__Neighbourhood_ILHA DO BOI', 'p1__Scholarship_0', 'p2__Age',\n",
       "       'p3__date_difference'], dtype=object)"
      ]
     },
     "execution_count": 31,
     "metadata": {},
     "output_type": "execute_result"
    }
   ],
   "source": [
    "dp_fit.get_feature_names_out()"
   ]
  },
  {
   "cell_type": "code",
   "execution_count": 32,
   "id": "20990eb9",
   "metadata": {
    "scrolled": true
   },
   "outputs": [
    {
     "data": {
      "text/plain": [
       "['SMS_received_0',\n",
       " 'Hipertension_0',\n",
       " 'Diabetes_0',\n",
       " 'Alcoholism_0',\n",
       " 'Handcap_0',\n",
       " 'Handcap_1',\n",
       " 'Handcap_2',\n",
       " 'Gender_F',\n",
       " 'Neighbourhood_JARDIM CAMBURI',\n",
       " 'Neighbourhood_MARIA ORTIZ',\n",
       " 'Neighbourhood_RESISTÊNCIA',\n",
       " 'Neighbourhood_JARDIM DA PENHA',\n",
       " 'Neighbourhood_ITARARÉ',\n",
       " 'Neighbourhood_CENTRO',\n",
       " 'Neighbourhood_SANTA MARTHA',\n",
       " 'Neighbourhood_TABUAZEIRO',\n",
       " 'Neighbourhood_JESUS DE NAZARETH',\n",
       " 'Neighbourhood_SANTO ANTÔNIO',\n",
       " 'Neighbourhood_BONFIM',\n",
       " 'Neighbourhood_SANTO ANDRÉ',\n",
       " 'Neighbourhood_JABOUR',\n",
       " 'Neighbourhood_CARATOÍRA',\n",
       " 'Neighbourhood_SÃO PEDRO',\n",
       " 'Neighbourhood_NOVA PALESTINA',\n",
       " 'Neighbourhood_ILHA DO PRÍNCIPE',\n",
       " 'Neighbourhood_DA PENHA',\n",
       " 'Neighbourhood_ANDORINHAS',\n",
       " 'Neighbourhood_ROMÃO',\n",
       " 'Neighbourhood_GURIGICA',\n",
       " 'Neighbourhood_BELA VISTA',\n",
       " 'Neighbourhood_MARUÍPE',\n",
       " 'Neighbourhood_ILHA DE SANTA MARIA',\n",
       " 'Neighbourhood_SÃO JOSÉ',\n",
       " 'Neighbourhood_SÃO CRISTÓVÃO',\n",
       " 'Neighbourhood_FORTE SÃO JOÃO',\n",
       " 'Neighbourhood_REDENÇÃO',\n",
       " 'Neighbourhood_SÃO BENEDITO',\n",
       " 'Neighbourhood_JOANA D´ARC',\n",
       " 'Neighbourhood_CRUZAMENTO',\n",
       " 'Neighbourhood_CONSOLAÇÃO',\n",
       " 'Neighbourhood_SANTA TEREZA',\n",
       " 'Neighbourhood_PRAIA DO SUÁ',\n",
       " 'Neighbourhood_SANTOS DUMONT',\n",
       " 'Neighbourhood_ILHA DAS CAIEIRAS',\n",
       " 'Neighbourhood_GRANDE VITÓRIA',\n",
       " 'Neighbourhood_INHANGUETÁ',\n",
       " 'Neighbourhood_PRAIA DO CANTO',\n",
       " 'Neighbourhood_VILA RUBIM',\n",
       " 'Neighbourhood_BENTO FERREIRA',\n",
       " 'Neighbourhood_REPÚBLICA',\n",
       " 'Neighbourhood_DO QUADRO',\n",
       " 'Neighbourhood_CONQUISTA',\n",
       " 'Neighbourhood_PARQUE MOSCOSO',\n",
       " 'Neighbourhood_MONTE BELO',\n",
       " 'Neighbourhood_GOIABEIRAS',\n",
       " 'Neighbourhood_JUCUTUQUARA',\n",
       " 'Neighbourhood_FONTE GRANDE',\n",
       " 'Neighbourhood_MATA DA PRAIA',\n",
       " 'Neighbourhood_DO CABRAL',\n",
       " 'Neighbourhood_SANTOS REIS',\n",
       " 'Neighbourhood_ESTRELINHA',\n",
       " 'Neighbourhood_SANTA CLARA',\n",
       " 'Neighbourhood_SOLON BORGES',\n",
       " 'Neighbourhood_PIEDADE',\n",
       " 'Neighbourhood_SANTA LÚCIA',\n",
       " 'Neighbourhood_SANTA CECÍLIA',\n",
       " 'Neighbourhood_SANTA LUÍZA',\n",
       " 'Neighbourhood_DO MOSCOSO',\n",
       " 'Neighbourhood_BARRO VERMELHO',\n",
       " 'Neighbourhood_MÁRIO CYPRESTE',\n",
       " 'Neighbourhood_BOA VISTA',\n",
       " 'Neighbourhood_COMDUSA',\n",
       " 'Neighbourhood_ARIOVALDO FAVALESSA',\n",
       " 'Neighbourhood_ANTÔNIO HONÓRIO',\n",
       " 'Neighbourhood_DE LOURDES',\n",
       " 'Neighbourhood_FRADINHOS',\n",
       " 'Neighbourhood_ENSEADA DO SUÁ',\n",
       " 'Neighbourhood_HORTO',\n",
       " 'Neighbourhood_SANTA HELENA',\n",
       " 'Neighbourhood_SEGURANÇA DO LAR',\n",
       " 'Neighbourhood_UNIVERSITÁRIO',\n",
       " 'Neighbourhood_NAZARETH',\n",
       " 'Neighbourhood_MORADA DE CAMBURI',\n",
       " 'Neighbourhood_PONTAL DE CAMBURI',\n",
       " 'Neighbourhood_ILHA DO BOI',\n",
       " 'Scholarship_0',\n",
       " 'Age',\n",
       " 'date_difference']"
      ]
     },
     "execution_count": 32,
     "metadata": {},
     "output_type": "execute_result"
    }
   ],
   "source": [
    "columns=[re.sub('p\\d__','',nm) for nm in dp_fit.get_feature_names_out()]\n",
    "columns"
   ]
  },
  {
   "cell_type": "code",
   "execution_count": 33,
   "id": "f4320bcf",
   "metadata": {},
   "outputs": [],
   "source": [
    "x_train=pd.DataFrame(data=dp_fit.transform(bd_train),columns=columns)\n",
    "x_test=pd.DataFrame(data=dp_fit.transform(bd_test),columns=columns)\n",
    "x_test1=pd.DataFrame(data=dp_fit.transform(test),columns=columns)"
   ]
  },
  {
   "cell_type": "code",
   "execution_count": 34,
   "id": "af458331",
   "metadata": {},
   "outputs": [
    {
     "data": {
      "text/plain": [
       "(10854, 88)"
      ]
     },
     "execution_count": 34,
     "metadata": {},
     "output_type": "execute_result"
    }
   ],
   "source": [
    "x_test1.shape"
   ]
  },
  {
   "cell_type": "code",
   "execution_count": 35,
   "id": "69582917",
   "metadata": {},
   "outputs": [
    {
     "data": {
      "text/plain": [
       "(79592, 88)"
      ]
     },
     "execution_count": 35,
     "metadata": {},
     "output_type": "execute_result"
    }
   ],
   "source": [
    "x_train.shape"
   ]
  },
  {
   "cell_type": "code",
   "execution_count": 36,
   "id": "fd01fbd3",
   "metadata": {},
   "outputs": [
    {
     "data": {
      "text/plain": [
       "(19898, 88)"
      ]
     },
     "execution_count": 36,
     "metadata": {},
     "output_type": "execute_result"
    }
   ],
   "source": [
    "x_test.shape"
   ]
  },
  {
   "cell_type": "code",
   "execution_count": 37,
   "id": "a4b39582",
   "metadata": {
    "scrolled": false
   },
   "outputs": [],
   "source": [
    "y_train=(bd_train[['No-show']]=='Yes').astype(int)\n",
    "y_test=(bd_test[['No-show']]=='Yes').astype(int)"
   ]
  },
  {
   "cell_type": "code",
   "execution_count": 38,
   "id": "9bc2ca1f",
   "metadata": {},
   "outputs": [
    {
     "data": {
      "text/plain": [
       "(79592, 1)"
      ]
     },
     "execution_count": 38,
     "metadata": {},
     "output_type": "execute_result"
    }
   ],
   "source": [
    "y_train.shape"
   ]
  },
  {
   "cell_type": "code",
   "execution_count": 39,
   "id": "537855c0",
   "metadata": {},
   "outputs": [
    {
     "data": {
      "text/plain": [
       "16159"
      ]
     },
     "execution_count": 39,
     "metadata": {},
     "output_type": "execute_result"
    }
   ],
   "source": [
    "(y_train[\"No-show\"]==1).sum()"
   ]
  },
  {
   "cell_type": "code",
   "execution_count": 40,
   "id": "4571dbed",
   "metadata": {},
   "outputs": [
    {
     "name": "stdout",
     "output_type": "stream",
     "text": [
      "[0.3885286]\n",
      "[('SMS_received_0', -0.35104809611006293), ('Hipertension_0', 0.09371533243505231), ('Diabetes_0', -0.11350577603278705), ('Alcoholism_0', -0.16091894286882297), ('Handcap_0', 0.04516171132785847), ('Handcap_1', 0.07354023558477399), ('Handcap_2', 0.19024702972147878), ('Gender_F', -0.0005041954808113334), ('Neighbourhood_JARDIM CAMBURI', -0.3058576191892401), ('Neighbourhood_MARIA ORTIZ', -0.11065447382514455), ('Neighbourhood_RESISTÊNCIA', -0.1450280273309706), ('Neighbourhood_JARDIM DA PENHA', -0.2206981131991963), ('Neighbourhood_ITARARÉ', 0.30823575033514805), ('Neighbourhood_CENTRO', 0.11021368435769839), ('Neighbourhood_SANTA MARTHA', -0.3057627017209255), ('Neighbourhood_TABUAZEIRO', -0.13617015409808844), ('Neighbourhood_JESUS DE NAZARETH', 0.13757502223507767), ('Neighbourhood_SANTO ANTÔNIO', -0.042676693293731374), ('Neighbourhood_BONFIM', 0.06837424182377991), ('Neighbourhood_SANTO ANDRÉ', -0.041652451653733824), ('Neighbourhood_JABOUR', -0.2783161066704785), ('Neighbourhood_CARATOÍRA', 0.232507403864646), ('Neighbourhood_SÃO PEDRO', 0.28825753092400325), ('Neighbourhood_NOVA PALESTINA', -0.008370312852172067), ('Neighbourhood_ILHA DO PRÍNCIPE', 0.327818429481009), ('Neighbourhood_DA PENHA', 0.09395034243869399), ('Neighbourhood_ANDORINHAS', 0.20389437245505593), ('Neighbourhood_ROMÃO', 0.08253124506861004), ('Neighbourhood_GURIGICA', 0.24511908150313416), ('Neighbourhood_BELA VISTA', 0.1223147331624509), ('Neighbourhood_MARUÍPE', 0.040591869303483054), ('Neighbourhood_ILHA DE SANTA MARIA', -0.138950997691593), ('Neighbourhood_SÃO JOSÉ', 0.21234826968137185), ('Neighbourhood_SÃO CRISTÓVÃO', -0.08849396495523346), ('Neighbourhood_FORTE SÃO JOÃO', -0.030072046856783014), ('Neighbourhood_REDENÇÃO', -0.1466015587341875), ('Neighbourhood_SÃO BENEDITO', 0.06562913549761624), ('Neighbourhood_JOANA D´ARC', -0.2042133583500703), ('Neighbourhood_CRUZAMENTO', 0.006643244743398745), ('Neighbourhood_CONSOLAÇÃO', -0.058991808468460236), ('Neighbourhood_SANTA TEREZA', -0.054812959698698836), ('Neighbourhood_PRAIA DO SUÁ', 0.10735535241727635), ('Neighbourhood_SANTOS DUMONT', 0.43263056575656444), ('Neighbourhood_ILHA DAS CAIEIRAS', 0.2735307950563135), ('Neighbourhood_GRANDE VITÓRIA', 0.2916304842499204), ('Neighbourhood_INHANGUETÁ', 0.0416221885317315), ('Neighbourhood_PRAIA DO CANTO', 0.08260027619670557), ('Neighbourhood_VILA RUBIM', -0.2329552342890922), ('Neighbourhood_BENTO FERREIRA', 0.2087453322600526), ('Neighbourhood_REPÚBLICA', -0.0744814080475933), ('Neighbourhood_DO QUADRO', -0.13723857624859617), ('Neighbourhood_CONQUISTA', 0.09448271096444052), ('Neighbourhood_PARQUE MOSCOSO', 0.27678881160738295), ('Neighbourhood_MONTE BELO', -0.20442026071115305), ('Neighbourhood_GOIABEIRAS', -0.049837979209762934), ('Neighbourhood_JUCUTUQUARA', -0.1496857382299566), ('Neighbourhood_FONTE GRANDE', -0.2190034878338996), ('Neighbourhood_MATA DA PRAIA', -0.1415266081921197), ('Neighbourhood_DO CABRAL', -0.33683038359027717), ('Neighbourhood_SANTOS REIS', 0.1276362503183703), ('Neighbourhood_ESTRELINHA', 0.10040316573891087), ('Neighbourhood_SANTA CLARA', 0.38870447339945086), ('Neighbourhood_SOLON BORGES', -0.33533037370239627), ('Neighbourhood_PIEDADE', -0.11648493632578816), ('Neighbourhood_SANTA LÚCIA', 0.08903475930994958), ('Neighbourhood_SANTA CECÍLIA', 0.07676289718656525), ('Neighbourhood_SANTA LUÍZA', -0.13185035519690544), ('Neighbourhood_DO MOSCOSO', 0.08010044105757164), ('Neighbourhood_BARRO VERMELHO', 0.2532133506935614), ('Neighbourhood_MÁRIO CYPRESTE', -0.11548744142850464), ('Neighbourhood_BOA VISTA', -0.08162248350841474), ('Neighbourhood_COMDUSA', -0.058239060657148574), ('Neighbourhood_ARIOVALDO FAVALESSA', 0.15099487093857955), ('Neighbourhood_ANTÔNIO HONÓRIO', -0.018274880098429397), ('Neighbourhood_DE LOURDES', -0.25167949970109676), ('Neighbourhood_FRADINHOS', -0.13410654904123626), ('Neighbourhood_ENSEADA DO SUÁ', -0.04896521240838289), ('Neighbourhood_HORTO', 0.19294775477343), ('Neighbourhood_SANTA HELENA', 0.12910031554769602), ('Neighbourhood_SEGURANÇA DO LAR', -0.02519342444749017), ('Neighbourhood_UNIVERSITÁRIO', 0.04737500920203516), ('Neighbourhood_NAZARETH', -0.09912997951942949), ('Neighbourhood_MORADA DE CAMBURI', -0.09109617493832786), ('Neighbourhood_PONTAL DE CAMBURI', -0.06669319312897276), ('Neighbourhood_ILHA DO BOI', -0.1557353584661179), ('Scholarship_0', -0.14714953858830887), ('Age', -0.006207882927019374), ('date_difference', 0.030147142597737268)]\n",
      "[[0.32626803 0.67373197]\n",
      " [0.54950316 0.45049684]\n",
      " [0.59823779 0.40176221]\n",
      " ...\n",
      " [0.65663309 0.34336691]\n",
      " [0.46310439 0.53689561]\n",
      " [0.4860565  0.5139435 ]]\n",
      "train score\n",
      "[0.67373197 0.45049684 0.40176221 ... 0.34336691 0.53689561 0.5139435 ]\n",
      "real\n",
      "       No-show\n",
      "0            1\n",
      "1            1\n",
      "2            0\n",
      "3            0\n",
      "4            0\n",
      "...        ...\n",
      "79587        0\n",
      "79588        0\n",
      "79589        0\n",
      "79590        0\n",
      "79591        0\n",
      "\n",
      "[79592 rows x 1 columns]\n",
      "    Cut-Off        F1  Precision    Recall       Acc        KS\n",
      "0      0.01  0.337521   0.203023  1.000000  0.203023  0.000000\n",
      "1      0.02  0.337521   0.203023  1.000000  0.203023  0.000000\n",
      "2      0.03  0.337521   0.203023  1.000000  0.203023  0.000000\n",
      "3      0.04  0.337521   0.203023  1.000000  0.203023  0.000000\n",
      "4      0.05  0.337521   0.203023  1.000000  0.203023  0.000000\n",
      "..      ...       ...        ...       ...       ...       ...\n",
      "94     0.95  0.003450   0.373333  0.001733  0.796738  0.000992\n",
      "95     0.96  0.002959   0.380952  0.001485  0.796789  0.000870\n",
      "96     0.97  0.002098   0.354167  0.001052  0.796801  0.000563\n",
      "97     0.98  0.001605   0.333333  0.000805  0.796814  0.000395\n",
      "98     0.99  0.000618   0.294118  0.000309  0.796889  0.000120\n",
      "\n",
      "[99 rows x 6 columns]\n",
      "beta0: [0.3885286]\n",
      "[('SMS_received_0', -0.35104809611006293), ('Hipertension_0', 0.09371533243505231), ('Diabetes_0', -0.11350577603278705), ('Alcoholism_0', -0.16091894286882297), ('Handcap_0', 0.04516171132785847), ('Handcap_1', 0.07354023558477399), ('Handcap_2', 0.19024702972147878), ('Gender_F', -0.0005041954808113334), ('Neighbourhood_JARDIM CAMBURI', -0.3058576191892401), ('Neighbourhood_MARIA ORTIZ', -0.11065447382514455), ('Neighbourhood_RESISTÊNCIA', -0.1450280273309706), ('Neighbourhood_JARDIM DA PENHA', -0.2206981131991963), ('Neighbourhood_ITARARÉ', 0.30823575033514805), ('Neighbourhood_CENTRO', 0.11021368435769839), ('Neighbourhood_SANTA MARTHA', -0.3057627017209255), ('Neighbourhood_TABUAZEIRO', -0.13617015409808844), ('Neighbourhood_JESUS DE NAZARETH', 0.13757502223507767), ('Neighbourhood_SANTO ANTÔNIO', -0.042676693293731374), ('Neighbourhood_BONFIM', 0.06837424182377991), ('Neighbourhood_SANTO ANDRÉ', -0.041652451653733824), ('Neighbourhood_JABOUR', -0.2783161066704785), ('Neighbourhood_CARATOÍRA', 0.232507403864646), ('Neighbourhood_SÃO PEDRO', 0.28825753092400325), ('Neighbourhood_NOVA PALESTINA', -0.008370312852172067), ('Neighbourhood_ILHA DO PRÍNCIPE', 0.327818429481009), ('Neighbourhood_DA PENHA', 0.09395034243869399), ('Neighbourhood_ANDORINHAS', 0.20389437245505593), ('Neighbourhood_ROMÃO', 0.08253124506861004), ('Neighbourhood_GURIGICA', 0.24511908150313416), ('Neighbourhood_BELA VISTA', 0.1223147331624509), ('Neighbourhood_MARUÍPE', 0.040591869303483054), ('Neighbourhood_ILHA DE SANTA MARIA', -0.138950997691593), ('Neighbourhood_SÃO JOSÉ', 0.21234826968137185), ('Neighbourhood_SÃO CRISTÓVÃO', -0.08849396495523346), ('Neighbourhood_FORTE SÃO JOÃO', -0.030072046856783014), ('Neighbourhood_REDENÇÃO', -0.1466015587341875), ('Neighbourhood_SÃO BENEDITO', 0.06562913549761624), ('Neighbourhood_JOANA D´ARC', -0.2042133583500703), ('Neighbourhood_CRUZAMENTO', 0.006643244743398745), ('Neighbourhood_CONSOLAÇÃO', -0.058991808468460236), ('Neighbourhood_SANTA TEREZA', -0.054812959698698836), ('Neighbourhood_PRAIA DO SUÁ', 0.10735535241727635), ('Neighbourhood_SANTOS DUMONT', 0.43263056575656444), ('Neighbourhood_ILHA DAS CAIEIRAS', 0.2735307950563135), ('Neighbourhood_GRANDE VITÓRIA', 0.2916304842499204), ('Neighbourhood_INHANGUETÁ', 0.0416221885317315), ('Neighbourhood_PRAIA DO CANTO', 0.08260027619670557), ('Neighbourhood_VILA RUBIM', -0.2329552342890922), ('Neighbourhood_BENTO FERREIRA', 0.2087453322600526), ('Neighbourhood_REPÚBLICA', -0.0744814080475933), ('Neighbourhood_DO QUADRO', -0.13723857624859617), ('Neighbourhood_CONQUISTA', 0.09448271096444052), ('Neighbourhood_PARQUE MOSCOSO', 0.27678881160738295), ('Neighbourhood_MONTE BELO', -0.20442026071115305), ('Neighbourhood_GOIABEIRAS', -0.049837979209762934), ('Neighbourhood_JUCUTUQUARA', -0.1496857382299566), ('Neighbourhood_FONTE GRANDE', -0.2190034878338996), ('Neighbourhood_MATA DA PRAIA', -0.1415266081921197), ('Neighbourhood_DO CABRAL', -0.33683038359027717), ('Neighbourhood_SANTOS REIS', 0.1276362503183703), ('Neighbourhood_ESTRELINHA', 0.10040316573891087), ('Neighbourhood_SANTA CLARA', 0.38870447339945086), ('Neighbourhood_SOLON BORGES', -0.33533037370239627), ('Neighbourhood_PIEDADE', -0.11648493632578816), ('Neighbourhood_SANTA LÚCIA', 0.08903475930994958), ('Neighbourhood_SANTA CECÍLIA', 0.07676289718656525), ('Neighbourhood_SANTA LUÍZA', -0.13185035519690544), ('Neighbourhood_DO MOSCOSO', 0.08010044105757164), ('Neighbourhood_BARRO VERMELHO', 0.2532133506935614), ('Neighbourhood_MÁRIO CYPRESTE', -0.11548744142850464), ('Neighbourhood_BOA VISTA', -0.08162248350841474), ('Neighbourhood_COMDUSA', -0.058239060657148574), ('Neighbourhood_ARIOVALDO FAVALESSA', 0.15099487093857955), ('Neighbourhood_ANTÔNIO HONÓRIO', -0.018274880098429397), ('Neighbourhood_DE LOURDES', -0.25167949970109676), ('Neighbourhood_FRADINHOS', -0.13410654904123626), ('Neighbourhood_ENSEADA DO SUÁ', -0.04896521240838289), ('Neighbourhood_HORTO', 0.19294775477343), ('Neighbourhood_SANTA HELENA', 0.12910031554769602), ('Neighbourhood_SEGURANÇA DO LAR', -0.02519342444749017), ('Neighbourhood_UNIVERSITÁRIO', 0.04737500920203516), ('Neighbourhood_NAZARETH', -0.09912997951942949), ('Neighbourhood_MORADA DE CAMBURI', -0.09109617493832786), ('Neighbourhood_PONTAL DE CAMBURI', -0.06669319312897276), ('Neighbourhood_ILHA DO BOI', -0.1557353584661179), ('Scholarship_0', -0.14714953858830887), ('Age', -0.006207882927019374), ('date_difference', 0.030147142597737268)]\n",
      "[[0.42349514 0.57650486]\n",
      " [0.64203558 0.35796442]\n",
      " [0.68591372 0.31408628]\n",
      " ...\n",
      " [0.66225621 0.33774379]\n",
      " [0.5362161  0.4637839 ]\n",
      " [0.54688225 0.45311775]]\n",
      "[0.57650486 0.35796442 0.31408628 ... 0.33774379 0.4637839  0.45311775]\n",
      "(array([0.00000000e+00, 6.27864632e-05, 5.65078169e-04, ...,\n",
      "       9.98116406e-01, 9.98241979e-01, 1.00000000e+00]), array([0., 0., 0., ..., 1., 1., 1.]), array([       inf, 0.99426109, 0.99151981, ..., 0.250324  , 0.25021197,\n",
      "       0.22763132]))\n",
      "ROC AUC: 0.6739\n",
      "None\n"
     ]
    },
    {
     "data": {
      "image/png": "[encoded data removed]",
      "text/plain": [
       "<Figure size 640x480 with 1 Axes>"
      ]
     },
     "metadata": {},
     "output_type": "display_data"
    }
   ],
   "source": [
    "test_classes=LogisticR(x_train,y_train,x_test,y_test)"
   ]
  },
  {
   "cell_type": "code",
   "execution_count": 41,
   "id": "35f0574a",
   "metadata": {},
   "outputs": [
    {
     "name": "stdout",
     "output_type": "stream",
     "text": [
      "              precision    recall  f1-score   support\n",
      "\n",
      "           0       0.92      0.52      0.66     15927\n",
      "           1       0.30      0.83      0.44      3971\n",
      "\n",
      "    accuracy                           0.58     19898\n",
      "   macro avg       0.61      0.67      0.55     19898\n",
      "weighted avg       0.80      0.58      0.62     19898\n",
      "\n",
      "(array([0.00000000e+00, 5.65078169e-04, 1.25572926e-03, 1.56966158e-03,\n",
      "       1.94638036e-03, 3.16443775e-02, 3.23350286e-02, 5.97099265e-02,\n",
      "       6.19074528e-02, 1.53764048e-01, 1.67953789e-01, 3.02567966e-01,\n",
      "       3.30068437e-01, 3.30194010e-01, 3.35342500e-01, 3.58887424e-01,\n",
      "       4.32787091e-01, 4.82702329e-01, 4.83016262e-01, 5.82344447e-01,\n",
      "       5.84416400e-01, 6.14491116e-01, 6.15809631e-01, 6.18509449e-01,\n",
      "       6.20079111e-01, 6.21460413e-01, 6.25478747e-01, 6.65473724e-01,\n",
      "       9.37778615e-01, 9.98681484e-01, 1.00000000e+00]), array([0.        , 0.00277008, 0.00402921, 0.00503651, 0.00654747,\n",
      "       0.08990179, 0.08990179, 0.15839839, 0.16293125, 0.36136993,\n",
      "       0.39158902, 0.61118106, 0.65701335, 0.65701335, 0.66356082,\n",
      "       0.6927726 , 0.77663057, 0.83001763, 0.83026945, 0.92545958,\n",
      "       0.92571141, 0.94686477, 0.9471166 , 0.94837572, 0.9491312 ,\n",
      "       0.9501385 , 0.95064216, 0.96172249, 0.99445983, 0.99974817,\n",
      "       1.        ]), array([       inf, 0.8674195 , 0.83779927, 0.80829448, 0.78597223,\n",
      "       0.75817947, 0.71412879, 0.71139815, 0.69465985, 0.67492903,\n",
      "       0.66835787, 0.61461767, 0.59231615, 0.56682155, 0.55816262,\n",
      "       0.55687084, 0.54173248, 0.5412069 , 0.52865459, 0.48350721,\n",
      "       0.44633313, 0.394474  , 0.34357659, 0.30111634, 0.29664322,\n",
      "       0.26082447, 0.21203399, 0.20232411, 0.11182784, 0.10145435,\n",
      "       0.        ]))\n",
      "ROC AUC: 0.7280\n",
      "None\n"
     ]
    },
    {
     "data": {
      "image/png": "[encoded data removed]",
      "text/plain": [
       "<Figure size 640x480 with 1 Axes>"
      ]
     },
     "metadata": {},
     "output_type": "display_data"
    }
   ],
   "source": [
    "test_score=decision(x_train,y_train,x_test,y_test)"
   ]
  },
  {
   "cell_type": "code",
   "execution_count": 42,
   "id": "d3a5619c",
   "metadata": {},
   "outputs": [
    {
     "name": "stdout",
     "output_type": "stream",
     "text": [
      "              precision    recall  f1-score   support\n",
      "\n",
      "           0       0.92      0.57      0.70     15927\n",
      "           1       0.32      0.80      0.45      3971\n",
      "\n",
      "    accuracy                           0.61     19898\n",
      "   macro avg       0.62      0.68      0.58     19898\n",
      "weighted avg       0.80      0.61      0.65     19898\n",
      "\n",
      "(array([0.        , 0.        , 0.        , ..., 0.9990582 , 0.99924656,\n",
      "       1.        ]), array([0.00000000e+00, 2.51825737e-04, 7.55477210e-04, ...,\n",
      "       1.00000000e+00, 1.00000000e+00, 1.00000000e+00]), array([       inf, 0.85188702, 0.81911724, ..., 0.04165697, 0.04125004,\n",
      "       0.04049015]))\n",
      "ROC AUC: 0.7451\n",
      "None\n"
     ]
    },
    {
     "data": {
      "image/png": "[encoded data removed]",
      "text/plain": [
       "<Figure size 640x480 with 1 Axes>"
      ]
     },
     "metadata": {},
     "output_type": "display_data"
    }
   ],
   "source": [
    "y_pred_rf=random(x_train,y_train,x_test,y_test)"
   ]
  },
  {
   "cell_type": "code",
   "execution_count": 43,
   "id": "067b6cf4",
   "metadata": {},
   "outputs": [
    {
     "name": "stdout",
     "output_type": "stream",
     "text": [
      "[0 1 0 ... 1 1 1]\n"
     ]
    }
   ],
   "source": [
    "\n",
    "rf = RandomForestClassifier(**{'n_estimators': 500, \n",
    "                           'min_samples_split': 20, \n",
    "                           'min_samples_leaf': 10, \n",
    "                           'max_features': 10, \n",
    "                           'max_depth': 50, \n",
    "                           'class_weight': 'balanced', \n",
    "                           'bootstrap': True})\n",
    "rf.fit(x_train,y_train)\n",
    "\n",
    "y_pred_rf = rf.predict(x_test1)\n",
    "test_score=rf.predict_proba(x_test1)[:,1]\n",
    "\n",
    "print(y_pred_rf)\n"
   ]
  },
  {
   "cell_type": "code",
   "execution_count": 44,
   "id": "a5a957a7",
   "metadata": {},
   "outputs": [
    {
     "data": {
      "text/html": [
       "<div>\n",
       "<style scoped>\n",
       "    .dataframe tbody tr th:only-of-type {\n",
       "        vertical-align: middle;\n",
       "    }\n",
       "\n",
       "    .dataframe tbody tr th {\n",
       "        vertical-align: top;\n",
       "    }\n",
       "\n",
       "    .dataframe thead th {\n",
       "        text-align: right;\n",
       "    }\n",
       "</style>\n",
       "<table border=\"1\" class=\"dataframe\">\n",
       "  <thead>\n",
       "    <tr style=\"text-align: right;\">\n",
       "      <th></th>\n",
       "      <th>PatientId</th>\n",
       "    </tr>\n",
       "  </thead>\n",
       "  <tbody>\n",
       "    <tr>\n",
       "      <th>0</th>\n",
       "      <td>7.223289e+12</td>\n",
       "    </tr>\n",
       "    <tr>\n",
       "      <th>1</th>\n",
       "      <td>8.632298e+14</td>\n",
       "    </tr>\n",
       "    <tr>\n",
       "      <th>2</th>\n",
       "      <td>4.438587e+14</td>\n",
       "    </tr>\n",
       "    <tr>\n",
       "      <th>3</th>\n",
       "      <td>4.179932e+13</td>\n",
       "    </tr>\n",
       "    <tr>\n",
       "      <th>4</th>\n",
       "      <td>3.647762e+13</td>\n",
       "    </tr>\n",
       "    <tr>\n",
       "      <th>...</th>\n",
       "      <td>...</td>\n",
       "    </tr>\n",
       "    <tr>\n",
       "      <th>10849</th>\n",
       "      <td>5.133650e+14</td>\n",
       "    </tr>\n",
       "    <tr>\n",
       "      <th>10850</th>\n",
       "      <td>3.635534e+13</td>\n",
       "    </tr>\n",
       "    <tr>\n",
       "      <th>10851</th>\n",
       "      <td>3.596266e+12</td>\n",
       "    </tr>\n",
       "    <tr>\n",
       "      <th>10852</th>\n",
       "      <td>9.213493e+13</td>\n",
       "    </tr>\n",
       "    <tr>\n",
       "      <th>10853</th>\n",
       "      <td>3.775115e+14</td>\n",
       "    </tr>\n",
       "  </tbody>\n",
       "</table>\n",
       "<p>10854 rows × 1 columns</p>\n",
       "</div>"
      ],
      "text/plain": [
       "          PatientId\n",
       "0      7.223289e+12\n",
       "1      8.632298e+14\n",
       "2      4.438587e+14\n",
       "3      4.179932e+13\n",
       "4      3.647762e+13\n",
       "...             ...\n",
       "10849  5.133650e+14\n",
       "10850  3.635534e+13\n",
       "10851  3.596266e+12\n",
       "10852  9.213493e+13\n",
       "10853  3.775115e+14\n",
       "\n",
       "[10854 rows x 1 columns]"
      ]
     },
     "execution_count": 44,
     "metadata": {},
     "output_type": "execute_result"
    }
   ],
   "source": [
    "test[[\"PatientId\"]]"
   ]
  },
  {
   "cell_type": "code",
   "execution_count": null,
   "id": "6d5e7135",
   "metadata": {},
   "outputs": [],
   "source": []
  },
  {
   "cell_type": "code",
   "execution_count": 53,
   "id": "28551f18",
   "metadata": {},
   "outputs": [],
   "source": [
    "test_prob=pd.DataFrame({\"No-show-prob\":test_score})"
   ]
  },
  {
   "cell_type": "code",
   "execution_count": 54,
   "id": "6375d918",
   "metadata": {
    "scrolled": true
   },
   "outputs": [
    {
     "data": {
      "text/html": [
       "<div>\n",
       "<style scoped>\n",
       "    .dataframe tbody tr th:only-of-type {\n",
       "        vertical-align: middle;\n",
       "    }\n",
       "\n",
       "    .dataframe tbody tr th {\n",
       "        vertical-align: top;\n",
       "    }\n",
       "\n",
       "    .dataframe thead th {\n",
       "        text-align: right;\n",
       "    }\n",
       "</style>\n",
       "<table border=\"1\" class=\"dataframe\">\n",
       "  <thead>\n",
       "    <tr style=\"text-align: right;\">\n",
       "      <th></th>\n",
       "      <th>No-show-prob</th>\n",
       "    </tr>\n",
       "  </thead>\n",
       "  <tbody>\n",
       "    <tr>\n",
       "      <th>0</th>\n",
       "      <td>0.110206</td>\n",
       "    </tr>\n",
       "    <tr>\n",
       "      <th>1</th>\n",
       "      <td>0.651778</td>\n",
       "    </tr>\n",
       "    <tr>\n",
       "      <th>2</th>\n",
       "      <td>0.276858</td>\n",
       "    </tr>\n",
       "    <tr>\n",
       "      <th>3</th>\n",
       "      <td>0.104860</td>\n",
       "    </tr>\n",
       "    <tr>\n",
       "      <th>4</th>\n",
       "      <td>0.623398</td>\n",
       "    </tr>\n",
       "    <tr>\n",
       "      <th>...</th>\n",
       "      <td>...</td>\n",
       "    </tr>\n",
       "    <tr>\n",
       "      <th>10849</th>\n",
       "      <td>0.555752</td>\n",
       "    </tr>\n",
       "    <tr>\n",
       "      <th>10850</th>\n",
       "      <td>0.533592</td>\n",
       "    </tr>\n",
       "    <tr>\n",
       "      <th>10851</th>\n",
       "      <td>0.524757</td>\n",
       "    </tr>\n",
       "    <tr>\n",
       "      <th>10852</th>\n",
       "      <td>0.619562</td>\n",
       "    </tr>\n",
       "    <tr>\n",
       "      <th>10853</th>\n",
       "      <td>0.582838</td>\n",
       "    </tr>\n",
       "  </tbody>\n",
       "</table>\n",
       "<p>10854 rows × 1 columns</p>\n",
       "</div>"
      ],
      "text/plain": [
       "       No-show-prob\n",
       "0          0.110206\n",
       "1          0.651778\n",
       "2          0.276858\n",
       "3          0.104860\n",
       "4          0.623398\n",
       "...             ...\n",
       "10849      0.555752\n",
       "10850      0.533592\n",
       "10851      0.524757\n",
       "10852      0.619562\n",
       "10853      0.582838\n",
       "\n",
       "[10854 rows x 1 columns]"
      ]
     },
     "execution_count": 54,
     "metadata": {},
     "output_type": "execute_result"
    }
   ],
   "source": [
    "test_prob"
   ]
  },
  {
   "cell_type": "code",
   "execution_count": 55,
   "id": "ab2cd310",
   "metadata": {},
   "outputs": [
    {
     "data": {
      "text/plain": [
       "(10854, 1)"
      ]
     },
     "execution_count": 55,
     "metadata": {},
     "output_type": "execute_result"
    }
   ],
   "source": [
    "test[[\"PatientId\"]].shape"
   ]
  },
  {
   "cell_type": "code",
   "execution_count": 56,
   "id": "905bdd8c",
   "metadata": {},
   "outputs": [
    {
     "data": {
      "text/plain": [
       "(10854, 1)"
      ]
     },
     "execution_count": 56,
     "metadata": {},
     "output_type": "execute_result"
    }
   ],
   "source": [
    "test_prob.shape"
   ]
  },
  {
   "cell_type": "code",
   "execution_count": 57,
   "id": "b9ec4768",
   "metadata": {},
   "outputs": [
    {
     "data": {
      "text/html": [
       "<div>\n",
       "<style scoped>\n",
       "    .dataframe tbody tr th:only-of-type {\n",
       "        vertical-align: middle;\n",
       "    }\n",
       "\n",
       "    .dataframe tbody tr th {\n",
       "        vertical-align: top;\n",
       "    }\n",
       "\n",
       "    .dataframe thead th {\n",
       "        text-align: right;\n",
       "    }\n",
       "</style>\n",
       "<table border=\"1\" class=\"dataframe\">\n",
       "  <thead>\n",
       "    <tr style=\"text-align: right;\">\n",
       "      <th></th>\n",
       "      <th>PatientId</th>\n",
       "      <th>No-show-prob</th>\n",
       "    </tr>\n",
       "  </thead>\n",
       "  <tbody>\n",
       "    <tr>\n",
       "      <th>0</th>\n",
       "      <td>7.223289e+12</td>\n",
       "      <td>0.110206</td>\n",
       "    </tr>\n",
       "    <tr>\n",
       "      <th>1</th>\n",
       "      <td>8.632298e+14</td>\n",
       "      <td>0.651778</td>\n",
       "    </tr>\n",
       "    <tr>\n",
       "      <th>2</th>\n",
       "      <td>4.438587e+14</td>\n",
       "      <td>0.276858</td>\n",
       "    </tr>\n",
       "    <tr>\n",
       "      <th>3</th>\n",
       "      <td>4.179932e+13</td>\n",
       "      <td>0.104860</td>\n",
       "    </tr>\n",
       "    <tr>\n",
       "      <th>4</th>\n",
       "      <td>3.647762e+13</td>\n",
       "      <td>0.623398</td>\n",
       "    </tr>\n",
       "    <tr>\n",
       "      <th>...</th>\n",
       "      <td>...</td>\n",
       "      <td>...</td>\n",
       "    </tr>\n",
       "    <tr>\n",
       "      <th>10849</th>\n",
       "      <td>5.133650e+14</td>\n",
       "      <td>0.555752</td>\n",
       "    </tr>\n",
       "    <tr>\n",
       "      <th>10850</th>\n",
       "      <td>3.635534e+13</td>\n",
       "      <td>0.533592</td>\n",
       "    </tr>\n",
       "    <tr>\n",
       "      <th>10851</th>\n",
       "      <td>3.596266e+12</td>\n",
       "      <td>0.524757</td>\n",
       "    </tr>\n",
       "    <tr>\n",
       "      <th>10852</th>\n",
       "      <td>9.213493e+13</td>\n",
       "      <td>0.619562</td>\n",
       "    </tr>\n",
       "    <tr>\n",
       "      <th>10853</th>\n",
       "      <td>3.775115e+14</td>\n",
       "      <td>0.582838</td>\n",
       "    </tr>\n",
       "  </tbody>\n",
       "</table>\n",
       "<p>10854 rows × 2 columns</p>\n",
       "</div>"
      ],
      "text/plain": [
       "          PatientId  No-show-prob\n",
       "0      7.223289e+12      0.110206\n",
       "1      8.632298e+14      0.651778\n",
       "2      4.438587e+14      0.276858\n",
       "3      4.179932e+13      0.104860\n",
       "4      3.647762e+13      0.623398\n",
       "...             ...           ...\n",
       "10849  5.133650e+14      0.555752\n",
       "10850  3.635534e+13      0.533592\n",
       "10851  3.596266e+12      0.524757\n",
       "10852  9.213493e+13      0.619562\n",
       "10853  3.775115e+14      0.582838\n",
       "\n",
       "[10854 rows x 2 columns]"
      ]
     },
     "execution_count": 57,
     "metadata": {},
     "output_type": "execute_result"
    }
   ],
   "source": [
    "submission=pd.concat([test[[\"PatientId\"]],test_prob ], axis=1)\n",
    "submission"
   ]
  },
  {
   "cell_type": "code",
   "execution_count": 58,
   "id": "18d35a73",
   "metadata": {},
   "outputs": [],
   "source": [
    "pd.DataFrame(submission).to_csv(\"Med_No_show_Yashmin_submission1.csv\",index=False)"
   ]
  },
  {
   "cell_type": "code",
   "execution_count": 87,
   "id": "1e79ecbc",
   "metadata": {},
   "outputs": [
    {
     "name": "stdout",
     "output_type": "stream",
     "text": [
      "          PatientId  AppointmentID          ScheduledDay  \\\n",
      "0      2.987250e+13        5642903  2016-04-29T18:38:08Z   \n",
      "1      5.589978e+14        5642503  2016-04-29T16:08:27Z   \n",
      "2      8.679512e+11        5642828  2016-04-29T17:29:31Z   \n",
      "3      8.841186e+12        5642494  2016-04-29T16:07:23Z   \n",
      "4      9.598513e+13        5626772  2016-04-27T08:36:51Z   \n",
      "...             ...            ...                   ...   \n",
      "99485  9.969977e+14        5650534  2016-05-03T07:51:47Z   \n",
      "99486  3.635534e+13        5651072  2016-05-03T08:23:40Z   \n",
      "99487  3.596266e+12        5650093  2016-05-03T07:27:33Z   \n",
      "99488  1.557663e+13        5630692  2016-04-27T16:03:52Z   \n",
      "99489  3.775115e+14        5629448  2016-04-27T13:30:56Z   \n",
      "\n",
      "             AppointmentDay  SMS_received No-show  Hipertension  Diabetes  \\\n",
      "0      2016-04-29T00:00:00Z             0      No             1         0   \n",
      "1      2016-04-29T00:00:00Z             0      No             0         0   \n",
      "2      2016-04-29T00:00:00Z             0      No             0         0   \n",
      "3      2016-04-29T00:00:00Z             0      No             1         1   \n",
      "4      2016-04-29T00:00:00Z             0      No             1         0   \n",
      "...                     ...           ...     ...           ...       ...   \n",
      "99485  2016-06-07T00:00:00Z             1      No             0         0   \n",
      "99486  2016-06-07T00:00:00Z             1      No             0         0   \n",
      "99487  2016-06-07T00:00:00Z             1      No             0         0   \n",
      "99488  2016-06-07T00:00:00Z             1      No             0         0   \n",
      "99489  2016-06-07T00:00:00Z             1      No             0         0   \n",
      "\n",
      "       Alcoholism  Handcap Gender  Age      Neighbourhood  Scholarship  \\\n",
      "0               0        0      F   62    JARDIM DA PENHA            0   \n",
      "1               0        0      M   56    JARDIM DA PENHA            0   \n",
      "2               0        0      F    8  PONTAL DE CAMBURI            0   \n",
      "3               0        0      F   56    JARDIM DA PENHA            0   \n",
      "4               0        0      F   76          REPÚBLICA            0   \n",
      "...           ...      ...    ...  ...                ...          ...   \n",
      "99485           0        0      F   42        MARIA ORTIZ            0   \n",
      "99486           0        0      F   52        MARIA ORTIZ            0   \n",
      "99487           0        0      F   51        MARIA ORTIZ            0   \n",
      "99488           0        0      F   21        MARIA ORTIZ            0   \n",
      "99489           0        0      F   54        MARIA ORTIZ            0   \n",
      "\n",
      "                       datetime        date day_of_week  \n",
      "0     2016-04-29 00:00:00+00:00  2016-04-29      Friday  \n",
      "1     2016-04-29 00:00:00+00:00  2016-04-29      Friday  \n",
      "2     2016-04-29 00:00:00+00:00  2016-04-29      Friday  \n",
      "3     2016-04-29 00:00:00+00:00  2016-04-29      Friday  \n",
      "4     2016-04-29 00:00:00+00:00  2016-04-29      Friday  \n",
      "...                         ...         ...         ...  \n",
      "99485 2016-06-07 00:00:00+00:00  2016-06-07     Tuesday  \n",
      "99486 2016-06-07 00:00:00+00:00  2016-06-07     Tuesday  \n",
      "99487 2016-06-07 00:00:00+00:00  2016-06-07     Tuesday  \n",
      "99488 2016-06-07 00:00:00+00:00  2016-06-07     Tuesday  \n",
      "99489 2016-06-07 00:00:00+00:00  2016-06-07     Tuesday  \n",
      "\n",
      "[99490 rows x 17 columns]\n",
      "The day with the maximum entries is: Wednesday\n",
      "The day with the minimum entries is: Saturday\n"
     ]
    }
   ],
   "source": [
    "df = pd.DataFrame(train)\n",
    "\n",
    "# Convert the 'datetime' column to datetime type\n",
    "\n",
    "df['datetime'] = pd.to_datetime(df['AppointmentDay'], errors='coerce')\n",
    "\n",
    "# Extract the date and the day of the week\n",
    "df['date'] = df['datetime'].dt.date\n",
    "df['day_of_week'] = df['datetime'].dt.day_name()\n",
    "\n",
    "# Calculate the day with maximum entries\n",
    "#max_entries_day = df['day_of_week'].mode()[0]\n",
    "\n",
    "day_counts = df['day_of_week'].value_counts()\n",
    "min_entries_day = day_counts.idxmin()\n",
    "max_entries_day=day_counts.idxmax()\n",
    "# Output the dataframe and the day with maximum entries\n",
    "print(df)\n",
    "print(f\"The day with the maximum entries is: {max_entries_day}\")\n",
    "print(f\"The day with the minimum entries is: {min_entries_day}\")"
   ]
  },
  {
   "cell_type": "code",
   "execution_count": 72,
   "id": "0db7f37e",
   "metadata": {},
   "outputs": [
    {
     "data": {
      "text/plain": [
       "11.325647546009186"
      ]
     },
     "execution_count": 72,
     "metadata": {},
     "output_type": "execute_result"
    }
   ],
   "source": [
    "(11268/99491)*100\n"
   ]
  },
  {
   "cell_type": "code",
   "execution_count": 79,
   "id": "e107d704",
   "metadata": {},
   "outputs": [
    {
     "name": "stdout",
     "output_type": "stream",
     "text": [
      "('JARDIM CAMBURI',)\n"
     ]
    }
   ],
   "source": [
    "category_counts = train[[\"Neighbourhood\"]].value_counts()\n",
    "\n",
    "# Find the category with the maximum frequency\n",
    "max_category = category_counts.idxmax()\n",
    "\n",
    "# Return the category and its frequency\n",
    "print(max_category)"
   ]
  },
  {
   "cell_type": "code",
   "execution_count": 98,
   "id": "b077f608",
   "metadata": {},
   "outputs": [
    {
     "data": {
      "text/plain": [
       "0.559733743976951"
      ]
     },
     "execution_count": 98,
     "metadata": {},
     "output_type": "execute_result"
    }
   ],
   "source": [
    "11268/20131"
   ]
  },
  {
   "cell_type": "code",
   "execution_count": null,
   "id": "b2f110c9",
   "metadata": {},
   "outputs": [],
   "source": []
  }
 ],
 "metadata": {
  "kernelspec": {
   "display_name": "Python 3 (ipykernel)",
   "language": "python",
   "name": "python3"
  },
  "language_info": {
   "codemirror_mode": {
    "name": "ipython",
    "version": 3
   },
   "file_extension": ".py",
   "mimetype": "text/x-python",
   "name": "python",
   "nbconvert_exporter": "python",
   "pygments_lexer": "ipython3",
   "version": "3.11.5"
  }
 },
 "nbformat": 4,
 "nbformat_minor": 5
}
